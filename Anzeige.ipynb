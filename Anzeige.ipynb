{
  "nbformat": 4,
  "nbformat_minor": 0,
  "metadata": {
    "colab": {
      "name": "Anzeige.ipynb",
      "provenance": [],
      "collapsed_sections": [],
      "toc_visible": true,
      "include_colab_link": true
    },
    "kernelspec": {
      "name": "python3",
      "display_name": "Python 3"
    }
  },
  "cells": [
    {
      "cell_type": "markdown",
      "metadata": {
        "id": "view-in-github",
        "colab_type": "text"
      },
      "source": [
        "<a href=\"https://colab.research.google.com/github/igoekce/netflixrecommender/blob/Data-Presentation/Anzeige.ipynb\" target=\"_parent\"><img src=\"https://colab.research.google.com/assets/colab-badge.svg\" alt=\"Open In Colab\"/></a>"
      ]
    },
    {
      "cell_type": "markdown",
      "metadata": {
        "id": "1YkfjtRS5-hH",
        "colab_type": "text"
      },
      "source": [
        "# Import"
      ]
    },
    {
      "cell_type": "code",
      "metadata": {
        "id": "y9wKdR9lcR-P",
        "colab_type": "code",
        "colab": {}
      },
      "source": [
        "import pandas as pd\n",
        "import numpy as np\n",
        "from tabulate import tabulate\n",
        "\n",
        "filepath = 'https://raw.githubusercontent.com/igoekce/netflixrecommender/master/netflix_titles.csv'\n",
        "\n",
        "df = pd.read_csv(filepath)"
      ],
      "execution_count": null,
      "outputs": []
    },
    {
      "cell_type": "code",
      "metadata": {
        "id": "KOu_uZDZXMYW",
        "colab_type": "code",
        "colab": {}
      },
      "source": [
        "# Expecting a list of tuples, where the first value is the title of the film\n",
        "# and the second value is a metric, displaying how similar these movies are\n",
        "# an optional parameter 'verbose' can be used to check\n",
        "# whether only the ranked titles + values are displayed or additional information (such as picture etc.) as well"
      ],
      "execution_count": null,
      "outputs": []
    },
    {
      "cell_type": "code",
      "metadata": {
        "id": "sGmxO24OSG16",
        "colab_type": "code",
        "colab": {}
      },
      "source": [
        "title = df['title'].sample(1).item()"
      ],
      "execution_count": null,
      "outputs": []
    },
    {
      "cell_type": "code",
      "metadata": {
        "id": "yMl8ktGMU0OW",
        "colab_type": "code",
        "colab": {
          "base_uri": "https://localhost:8080/",
          "height": 35
        },
        "outputId": "94005c24-4983-441a-f50b-3e3ab50d359e"
      },
      "source": [
        "title"
      ],
      "execution_count": null,
      "outputs": [
        {
          "output_type": "execute_result",
          "data": {
            "application/vnd.google.colaboratory.intrinsic+json": {
              "type": "string"
            },
            "text/plain": [
              "'I Lost My Body'"
            ]
          },
          "metadata": {
            "tags": []
          },
          "execution_count": 19
        }
      ]
    },
    {
      "cell_type": "code",
      "metadata": {
        "id": "lINS4XwPRwzG",
        "colab_type": "code",
        "colab": {}
      },
      "source": [
        "movielist = []\n",
        "\n",
        "for movie in df['title'].sample(5):\n",
        "  movielist.append((movie, np.random.rand()))\n",
        "  movielist = sorted(movielist, key=lambda text: text[1], reverse=True)"
      ],
      "execution_count": null,
      "outputs": []
    },
    {
      "cell_type": "code",
      "metadata": {
        "id": "HZWtDaHQSc8s",
        "colab_type": "code",
        "colab": {
          "base_uri": "https://localhost:8080/",
          "height": 104
        },
        "outputId": "87b2cf7e-1fc1-4c5d-f0eb-9d91aff69ad3"
      },
      "source": [
        "movielist"
      ],
      "execution_count": null,
      "outputs": [
        {
          "output_type": "execute_result",
          "data": {
            "text/plain": [
              "[('Doubt', 0.702669579523971),\n",
              " ('Colin Quinn: Red State Blue State', 0.5855501065580283),\n",
              " ('Yoo Byung Jae: Discomfort Zone', 0.5142572553448805),\n",
              " ('Knights of Sidonia', 0.4078306516239134),\n",
              " ('All the Boys Love Mandy Lane', 0.3111150096216221)]"
            ]
          },
          "metadata": {
            "tags": []
          },
          "execution_count": 21
        }
      ]
    },
    {
      "cell_type": "code",
      "metadata": {
        "id": "Ct_tyM_fa_Id",
        "colab_type": "code",
        "colab": {
          "base_uri": "https://localhost:8080/",
          "height": 104
        },
        "outputId": "148fc0f8-2d47-40df-8760-3174e5087c3e"
      },
      "source": [
        "for movie, score in movielist:\n",
        "  try:\n",
        "    print(df.loc[df['title'] == movie, 'description'].item())\n",
        "  except:\n",
        "    print('No description available')"
      ],
      "execution_count": null,
      "outputs": [
        {
          "output_type": "stream",
          "text": [
            "Sister Aloysius begins to have doubts about doting Father Flynn, who seems to have become overly involved in the life of an African American pupil.\n",
            "Stand-up comedian Colin Quinn calls out the hypocrisies of the left and the right in this special based on his politically charged Off-Broadway show.\n",
            "Daring comedian Yoo Byung-jae connects criticism he's received from the general public to some of the most touchy issues in current Korean society.\n",
            "A hero rises to save a world that's also a spaceship under siege by an alien threat in this original anime series based on the popular manga comic.\n",
            "During a weekend excursion to a secluded ranch, an unwelcome visitor begins picking off the randy admirers of teenage temptress Mandy Lane.\n"
          ],
          "name": "stdout"
        }
      ]
    },
    {
      "cell_type": "code",
      "metadata": {
        "id": "nmDoCxF8RF-C",
        "colab_type": "code",
        "colab": {}
      },
      "source": [
        "def returnrecommendations(title, movielist, verbose=False):\n",
        "  print('For the movie:' + '\\n')\n",
        "  print('*'*40)\n",
        "  print(title)\n",
        "  print('*'*40 + '\\n')\n",
        "  print('We can recommend the following movies:' + '\\n')\n",
        "\n",
        "  table = []\n",
        "\n",
        "  if verbose == False:\n",
        "    for movie, value in movielist:\n",
        "      value = round(value, 2) * 100\n",
        "      table.append([movie, value])\n",
        "\n",
        "    return print(tabulate(table, headers=[\"Movie Name\", ' Score (out of 100)'], tablefmt='rst'))\n",
        "  \n",
        "  if verbose == True:\n",
        "    for movie, value in movielist:\n",
        "      value = round(value, 2) * 100\n",
        "      # check if description is available\n",
        "      try:\n",
        "        description = df.loc[df['title'] == movie, 'description'].item()\n",
        "      except:\n",
        "        description = 'No description available'      \n",
        "      table.append([movie, value, description])\n",
        "\n",
        "    return print(tabulate(table, headers=[\"Movie Name\", ' Score (out of 100)', 'Description'], tablefmt='rst'))"
      ],
      "execution_count": null,
      "outputs": []
    },
    {
      "cell_type": "code",
      "metadata": {
        "id": "m4k2XaOvRvN4",
        "colab_type": "code",
        "colab": {
          "base_uri": "https://localhost:8080/",
          "height": 312
        },
        "outputId": "82c408bd-6776-4261-ea5b-4fcbc8354357"
      },
      "source": [
        "returnrecommendations(title, movielist, verbose=False)"
      ],
      "execution_count": null,
      "outputs": [
        {
          "output_type": "stream",
          "text": [
            "For the movie:\n",
            "\n",
            "****************************************\n",
            "I Lost My Body\n",
            "****************************************\n",
            "\n",
            "We can recommend the following movies:\n",
            "\n",
            "=================================  =====================\n",
            "Movie Name                            Score (out of 100)\n",
            "=================================  =====================\n",
            "Doubt                                                 70\n",
            "Colin Quinn: Red State Blue State                     59\n",
            "Yoo Byung Jae: Discomfort Zone                        51\n",
            "Knights of Sidonia                                    41\n",
            "All the Boys Love Mandy Lane                          31\n",
            "=================================  =====================\n"
          ],
          "name": "stdout"
        }
      ]
    },
    {
      "cell_type": "code",
      "metadata": {
        "id": "HHMiRRShRGFv",
        "colab_type": "code",
        "colab": {}
      },
      "source": [
        ""
      ],
      "execution_count": null,
      "outputs": []
    },
    {
      "cell_type": "code",
      "metadata": {
        "id": "WaRE2FZBRGK7",
        "colab_type": "code",
        "colab": {}
      },
      "source": [
        ""
      ],
      "execution_count": null,
      "outputs": []
    },
    {
      "cell_type": "code",
      "metadata": {
        "id": "ykzRdz_TRGOb",
        "colab_type": "code",
        "colab": {}
      },
      "source": [
        ""
      ],
      "execution_count": null,
      "outputs": []
    },
    {
      "cell_type": "code",
      "metadata": {
        "id": "En2oZtlqRGRl",
        "colab_type": "code",
        "colab": {}
      },
      "source": [
        ""
      ],
      "execution_count": null,
      "outputs": []
    }
  ]
}