{
  "nbformat": 4,
  "nbformat_minor": 0,
  "metadata": {
    "colab": {
      "name": "Master Netflix recommendation.ipynb",
      "provenance": [],
      "collapsed_sections": [],
      "toc_visible": true,
      "include_colab_link": true
    },
    "kernelspec": {
      "name": "python3",
      "display_name": "Python 3"
    }
  },
  "cells": [
    {
      "cell_type": "markdown",
      "metadata": {
        "id": "view-in-github",
        "colab_type": "text"
      },
      "source": [
        "<a href=\"https://colab.research.google.com/github/igoekce/netflixrecommender/blob/master/Master_Netflix_recommendation.ipynb\" target=\"_parent\"><img src=\"https://colab.research.google.com/assets/colab-badge.svg\" alt=\"Open In Colab\"/></a>"
      ]
    },
    {
      "cell_type": "markdown",
      "metadata": {
        "id": "ppLD_dt5j88a",
        "colab_type": "text"
      },
      "source": [
        "#Data Preprocessing"
      ]
    },
    {
      "cell_type": "markdown",
      "metadata": {
        "id": "1YkfjtRS5-hH",
        "colab_type": "text"
      },
      "source": [
        "## Import"
      ]
    },
    {
      "cell_type": "code",
      "metadata": {
        "id": "y9wKdR9lcR-P",
        "colab_type": "code",
        "colab": {}
      },
      "source": [
        "# import librairies\n",
        "import networkx as nx\n",
        "import pandas as pd\n",
        "import numpy as np\n",
        "import math as math\n",
        "import time \n",
        "import operator\n",
        "from tabulate import tabulate"
      ],
      "execution_count": 1,
      "outputs": []
    },
    {
      "cell_type": "code",
      "metadata": {
        "id": "kGiI81j8yDwc",
        "colab_type": "code",
        "colab": {}
      },
      "source": [
        "filepath = 'https://raw.githubusercontent.com/igoekce/netflixrecommender/master/netflix_titles.csv'\n",
        "df = pd.read_csv(filepath)"
      ],
      "execution_count": 2,
      "outputs": []
    },
    {
      "cell_type": "markdown",
      "metadata": {
        "id": "bKKcd0iMn3tA",
        "colab_type": "text"
      },
      "source": [
        "##Variables"
      ]
    },
    {
      "cell_type": "code",
      "metadata": {
        "id": "fX0jBugqn2r9",
        "colab_type": "code",
        "colab": {}
      },
      "source": [
        "selected_movie = 'The Ridiculous 6'  #Input movie title\n",
        "num_rec = 10 #Input max number of recommendations\n",
        "# possible cols w/o title: 'type','director', 'cast', 'country', 'date_added', 'release_year', 'rating', 'duration', 'listed_in', 'description'\n",
        "features = ['rating', 'cast', 'country', 'listed_in'] \n",
        "k=0.3"
      ],
      "execution_count": 3,
      "outputs": []
    },
    {
      "cell_type": "markdown",
      "metadata": {
        "id": "iso97dQNifF4",
        "colab_type": "text"
      },
      "source": [
        "## Separation"
      ]
    },
    {
      "cell_type": "code",
      "metadata": {
        "id": "pqrPxfnK9vhR",
        "colab_type": "code",
        "colab": {
          "base_uri": "https://localhost:8080/",
          "height": 218
        },
        "outputId": "bd08d492-26b9-43a5-b59a-9f8b5a06fcad"
      },
      "source": [
        "df = df.dropna()\n",
        "df = df.drop_duplicates()\n",
        "df['title'].sample"
      ],
      "execution_count": 4,
      "outputs": [
        {
          "output_type": "execute_result",
          "data": {
            "text/plain": [
              "<bound method NDFrame.sample of 0       Norm of the North: King Sized Adventure\n",
              "4                                  #realityhigh\n",
              "6                                      Automata\n",
              "7            Fabrizio Copano: Solo pienso en mi\n",
              "9                                   Good People\n",
              "                         ...                   \n",
              "6142              The Great British Baking Show\n",
              "6158    Miraculous: Tales of Ladybug & Cat Noir\n",
              "6167                               Sacred Games\n",
              "6182                           Men on a Mission\n",
              "6213                           Leyla and Mecnun\n",
              "Name: title, Length: 3774, dtype: object>"
            ]
          },
          "metadata": {
            "tags": []
          },
          "execution_count": 4
        }
      ]
    },
    {
      "cell_type": "code",
      "metadata": {
        "id": "e1MAhmCAoaAQ",
        "colab_type": "code",
        "colab": {}
      },
      "source": [
        "df = df.sample(int(k*df.shape[0]), random_state=42)"
      ],
      "execution_count": 5,
      "outputs": []
    },
    {
      "cell_type": "code",
      "metadata": {
        "id": "iu6q_L3z-7YN",
        "colab_type": "code",
        "colab": {}
      },
      "source": [
        "def splitDataFrameList(df,target_column,separator):\n",
        "    ''' df = dataframe to split,\n",
        "    target_column = the column containing the values to split\n",
        "    separator = the symbol used to perform the split\n",
        "    returns: a dataframe with each entry for the target column separated, with each element moved into a new row. \n",
        "    The values in the other columns are duplicated across the newly divided rows.\n",
        "    '''\n",
        "    def splitListToRows(row,row_accumulator,target_column,separator):\n",
        "        split_row = row[target_column].split(separator)\n",
        "        for s in split_row:\n",
        "            new_row = row.to_dict()\n",
        "            new_row[target_column] = s\n",
        "            row_accumulator.append(new_row)\n",
        "    new_rows = []\n",
        "    df.apply(splitListToRows,axis=1,args = (new_rows,target_column,separator))\n",
        "    new_df = pd.DataFrame(new_rows)\n",
        "    return new_df"
      ],
      "execution_count": 6,
      "outputs": []
    },
    {
      "cell_type": "code",
      "metadata": {
        "id": "CGt5_uIM--EU",
        "colab_type": "code",
        "colab": {}
      },
      "source": [
        "df = splitDataFrameList(df,'cast',',')\n",
        "df = splitDataFrameList(df,'country',',')\n",
        "df = splitDataFrameList(df,'listed_in',',')"
      ],
      "execution_count": 7,
      "outputs": []
    },
    {
      "cell_type": "markdown",
      "metadata": {
        "id": "s1klAfzPo2cI",
        "colab_type": "text"
      },
      "source": [
        "##Function generating Edge List"
      ]
    },
    {
      "cell_type": "code",
      "metadata": {
        "id": "HFd9ONUrol93",
        "colab_type": "code",
        "colab": {}
      },
      "source": [
        "def eg_generator(features):\n",
        "  df1 = pd.DataFrame(columns = ['title', 'value']) \n",
        "  for feature in features:\n",
        "    print(feature)\n",
        "    df_temp = df[['title', feature]].copy()\n",
        "    df_temp.columns = ['title', 'value']\n",
        "    df1 = pd.concat([df1, df_temp], axis=0)\n",
        "  return df1"
      ],
      "execution_count": 8,
      "outputs": []
    },
    {
      "cell_type": "code",
      "metadata": {
        "id": "tT3QJdPDStaK",
        "colab_type": "code",
        "colab": {
          "base_uri": "https://localhost:8080/",
          "height": 67
        },
        "outputId": "3e2222dc-09f9-4661-9bed-6188c9679f7d"
      },
      "source": [
        "print('possible cols w/o title:', df.columns)"
      ],
      "execution_count": 9,
      "outputs": [
        {
          "output_type": "stream",
          "text": [
            "possible cols w/o title: Index(['show_id', 'type', 'title', 'director', 'cast', 'country', 'date_added',\n",
            "       'release_year', 'rating', 'duration', 'listed_in', 'description'],\n",
            "      dtype='object')\n"
          ],
          "name": "stdout"
        }
      ]
    },
    {
      "cell_type": "code",
      "metadata": {
        "id": "iMslTjdc0Iy0",
        "colab_type": "code",
        "colab": {
          "base_uri": "https://localhost:8080/",
          "height": 84
        },
        "outputId": "fc670ba7-3e1e-4ac0-cf2b-f5beffab047c"
      },
      "source": [
        "df_model = eg_generator(features)"
      ],
      "execution_count": 10,
      "outputs": [
        {
          "output_type": "stream",
          "text": [
            "rating\n",
            "cast\n",
            "country\n",
            "listed_in\n"
          ],
          "name": "stdout"
        }
      ]
    },
    {
      "cell_type": "code",
      "metadata": {
        "id": "WOWfxnjjvKaE",
        "colab_type": "code",
        "colab": {}
      },
      "source": [
        "df_model = df_model.drop_duplicates()"
      ],
      "execution_count": 11,
      "outputs": []
    },
    {
      "cell_type": "markdown",
      "metadata": {
        "id": "Y1Qp548qj6QO",
        "colab_type": "text"
      },
      "source": [
        "# Modelling"
      ]
    },
    {
      "cell_type": "markdown",
      "metadata": {
        "id": "2majPTKemw2m",
        "colab_type": "text"
      },
      "source": [
        "##Generating G"
      ]
    },
    {
      "cell_type": "code",
      "metadata": {
        "id": "DYS7NgqwlE4R",
        "colab_type": "code",
        "colab": {}
      },
      "source": [
        "# Graphen erstellen\n",
        "G = nx.from_pandas_edgelist(df_model, source='title', target='value')"
      ],
      "execution_count": 12,
      "outputs": []
    },
    {
      "cell_type": "markdown",
      "metadata": {
        "id": "x7gtMsx5m1kO",
        "colab_type": "text"
      },
      "source": [
        "## Calculation of Adar and Jaccard"
      ]
    },
    {
      "cell_type": "code",
      "metadata": {
        "id": "mzOo_vn6laWe",
        "colab_type": "code",
        "colab": {}
      },
      "source": [
        "# Ermittlung Jaccard Coeffizient\n",
        "jacc_gen = nx.jaccard_coefficient(G) #Generator für Jaccard Koeffizient"
      ],
      "execution_count": 13,
      "outputs": []
    },
    {
      "cell_type": "code",
      "metadata": {
        "id": "9e1spNKblbO7",
        "colab_type": "code",
        "colab": {}
      },
      "source": [
        "# Ermittlung Adamic Adar Coeffizient\n",
        "adam_ad = nx.adamic_adar_index(G)  #Generator für Adamic_Adar_Index"
      ],
      "execution_count": 14,
      "outputs": []
    },
    {
      "cell_type": "code",
      "metadata": {
        "id": "hTrkFUTSlgeu",
        "colab_type": "code",
        "colab": {}
      },
      "source": [
        "jacc_dict = {}\n",
        "for u,v,p in jacc_gen:\n",
        "  jacc_dict[(u, v)] = p"
      ],
      "execution_count": 15,
      "outputs": []
    },
    {
      "cell_type": "code",
      "metadata": {
        "id": "0dQSKmyGlilN",
        "colab_type": "code",
        "colab": {}
      },
      "source": [
        "adam_ad_dict = {}\n",
        "for u,v,p in adam_ad:\n",
        "  adam_ad_dict[(u, v)] = p"
      ],
      "execution_count": 16,
      "outputs": []
    },
    {
      "cell_type": "code",
      "metadata": {
        "id": "O8AzSevrlrjB",
        "colab_type": "code",
        "colab": {}
      },
      "source": [
        "results_jacc = {}\n",
        "for key in jacc_dict:\n",
        "  if selected_movie in key:\n",
        "    results_jacc[key] = jacc_dict[key]"
      ],
      "execution_count": 17,
      "outputs": []
    },
    {
      "cell_type": "code",
      "metadata": {
        "id": "7X8w8iS0lodH",
        "colab_type": "code",
        "colab": {}
      },
      "source": [
        "results_adam = {}\n",
        "for key in adam_ad_dict:\n",
        "  if selected_movie in key:\n",
        "    results_adam[key] = adam_ad_dict[key]"
      ],
      "execution_count": 18,
      "outputs": []
    },
    {
      "cell_type": "markdown",
      "metadata": {
        "id": "azx_ksdtm7IO",
        "colab_type": "text"
      },
      "source": [
        "##Preparing and sorting final recommendation"
      ]
    },
    {
      "cell_type": "code",
      "metadata": {
        "id": "vhp92b1glzZR",
        "colab_type": "code",
        "colab": {}
      },
      "source": [
        "results_jacc_sorted = sorted(results_jacc.items(), key=operator.itemgetter(1), reverse=True)\n",
        "results_adam_sorted = sorted(results_adam.items(), key=operator.itemgetter(1), reverse=True)"
      ],
      "execution_count": 19,
      "outputs": []
    },
    {
      "cell_type": "code",
      "metadata": {
        "id": "WzRiCrCZl6bc",
        "colab_type": "code",
        "colab": {}
      },
      "source": [
        "erg_jacc = results_jacc_sorted[:num_rec]\n",
        "erg_jacc_only = [tup[1] for tup in erg_jacc]\n",
        "erg_jacc_recom = [tup[0] for tup in erg_jacc ]\n",
        "erg_jacc_rec =[tup[0] if tup[0]!=selected_movie else tup[1] for tup in erg_jacc_recom ]\n",
        "erg_jacc_array = np.column_stack((erg_jacc_rec, erg_jacc_only))\n",
        "set_jacc = set(erg_jacc_rec)\n",
        "erg_jacc_top = [tup[1] for tup in erg_jacc]"
      ],
      "execution_count": 20,
      "outputs": []
    },
    {
      "cell_type": "code",
      "metadata": {
        "id": "yRJFE6PbmYtj",
        "colab_type": "code",
        "colab": {}
      },
      "source": [
        "erg_adam = results_adam_sorted[:num_rec]\n",
        "erg_adam_only = [tup[1] for tup in erg_adam]\n",
        "erg_adam_recom = [tup[0] for tup in erg_adam ]\n",
        "erg_adam_rec =[tup[0] if tup[0]!=selected_movie else tup[1] for tup in erg_adam_recom ]\n",
        "erg_adam_array = np.column_stack((erg_adam_rec, erg_adam_only))\n",
        "set_adam = set(erg_adam_rec)"
      ],
      "execution_count": 21,
      "outputs": []
    },
    {
      "cell_type": "code",
      "metadata": {
        "id": "3pWDje2VqIcl",
        "colab_type": "code",
        "colab": {
          "base_uri": "https://localhost:8080/",
          "height": 202
        },
        "outputId": "bb51cdd3-7401-48ce-da1d-cd604f324139"
      },
      "source": [
        "erg_jacc_array"
      ],
      "execution_count": 22,
      "outputs": [
        {
          "output_type": "execute_result",
          "data": {
            "text/plain": [
              "array([[\"You Don't Mess with the Zohan\", '0.18181818181818182'],\n",
              "       [\"Charlie's Angels\", '0.10526315789473684'],\n",
              "       ['Spy Kids 2: The Island of Lost Dreams', '0.10526315789473684'],\n",
              "       ['The Amazing Praybeyt Benjamin', '0.0967741935483871'],\n",
              "       ['Rembat', '0.09375'],\n",
              "       ['National Treasure', '0.09090909090909091'],\n",
              "       ['Bitcoin Heist', '0.09090909090909091'],\n",
              "       ['Antidote', '0.08823529411764706'],\n",
              "       ['Stuart Little 2', '0.08823529411764706'],\n",
              "       ['Death Race: Beyond Anarchy', '0.08823529411764706']],\n",
              "      dtype='<U37')"
            ]
          },
          "metadata": {
            "tags": []
          },
          "execution_count": 22
        }
      ]
    },
    {
      "cell_type": "code",
      "metadata": {
        "id": "1VAvYYprmiES",
        "colab_type": "code",
        "colab": {
          "base_uri": "https://localhost:8080/",
          "height": 34
        },
        "outputId": "59adbb76-d1eb-4714-cb52-5bf6e14eb8bc"
      },
      "source": [
        "intersec = set_adam.intersection(set_jacc)\n",
        "len(intersec)"
      ],
      "execution_count": 23,
      "outputs": [
        {
          "output_type": "execute_result",
          "data": {
            "text/plain": [
              "3"
            ]
          },
          "metadata": {
            "tags": []
          },
          "execution_count": 23
        }
      ]
    },
    {
      "cell_type": "code",
      "metadata": {
        "id": "35WGuQkCml5s",
        "colab_type": "code",
        "colab": {
          "base_uri": "https://localhost:8080/",
          "height": 67
        },
        "outputId": "21fe9816-c2b9-4bd8-fde8-62e691d545a8"
      },
      "source": [
        "intersec"
      ],
      "execution_count": 24,
      "outputs": [
        {
          "output_type": "execute_result",
          "data": {
            "text/plain": [
              "{\"Charlie's Angels\",\n",
              " 'Spy Kids 2: The Island of Lost Dreams',\n",
              " \"You Don't Mess with the Zohan\"}"
            ]
          },
          "metadata": {
            "tags": []
          },
          "execution_count": 24
        }
      ]
    },
    {
      "cell_type": "code",
      "metadata": {
        "id": "sI6nmc2umodO",
        "colab_type": "code",
        "colab": {
          "base_uri": "https://localhost:8080/",
          "height": 34
        },
        "outputId": "305937f6-3c7f-4d35-8a59-ce2949567e24"
      },
      "source": [
        "#Proportion of common top recommendations (jacc and adam) #with respect to chosen number of recommendations (num_rec)\n",
        "prop_com_rec = len(intersec)/(num_rec)*100\n",
        "print(f'Proportion of common top recommendations {prop_com_rec} %')"
      ],
      "execution_count": 25,
      "outputs": [
        {
          "output_type": "stream",
          "text": [
            "Proportion of common top recommendations 30.0 %\n"
          ],
          "name": "stdout"
        }
      ]
    },
    {
      "cell_type": "markdown",
      "metadata": {
        "id": "WTKzTKpYnLeq",
        "colab_type": "text"
      },
      "source": [
        "# User Recommendation"
      ]
    },
    {
      "cell_type": "code",
      "metadata": {
        "id": "zYMf6sdIngyk",
        "colab_type": "code",
        "colab": {}
      },
      "source": [
        "def returnrecommendations(title, movielist, verbose=False):\n",
        "  print('For the movie:' + '\\n')\n",
        "  print('*'*40)\n",
        "  print(title)\n",
        "  print('*'*40 + '\\n')\n",
        "  print('We can recommend the following movies:' + '\\n')\n",
        "\n",
        "  table = []\n",
        "\n",
        "  if verbose == False:\n",
        "    for movie, value in movielist:\n",
        "      value = round(float(value), 2) * 100\n",
        "      table.append([movie, value])\n",
        "\n",
        "    return print(tabulate(table, headers=[\"Movie Name\", ' Score'], tablefmt='rst'))\n",
        "  \n",
        "  if verbose == True:\n",
        "    for movie, value in movielist:\n",
        "      value = round(float(value), 2) * 100\n",
        "      # check if description is available\n",
        "      try:\n",
        "        description = df.loc[df['title'] == movie, 'description'].values[0]\n",
        "      except:\n",
        "        description = 'No description available'      \n",
        "      table.append([movie, value, description])\n",
        "\n",
        "    return print(tabulate(table, headers=[\"Movie Name\", ' Score', 'Description'], tablefmt='rst'))"
      ],
      "execution_count": 26,
      "outputs": []
    },
    {
      "cell_type": "code",
      "metadata": {
        "id": "vx1RjhUonh0G",
        "colab_type": "code",
        "colab": {
          "base_uri": "https://localhost:8080/",
          "height": 406
        },
        "outputId": "e06d0d23-2bba-4c8a-9f9f-30c88beaaff4"
      },
      "source": [
        "returnrecommendations(selected_movie, erg_jacc_array, verbose=True)"
      ],
      "execution_count": 27,
      "outputs": [
        {
          "output_type": "stream",
          "text": [
            "For the movie:\n",
            "\n",
            "****************************************\n",
            "The Ridiculous 6\n",
            "****************************************\n",
            "\n",
            "We can recommend the following movies:\n",
            "\n",
            "=====================================  ========  ======================================================================================================================================================\n",
            "Movie Name                                Score  Description\n",
            "=====================================  ========  ======================================================================================================================================================\n",
            "You Don't Mess with the Zohan                18  An Israeli counterterrorism soldier with a secretly fabulous ambition to become a Manhattan hairstylist will do anything to make his dreams come true.\n",
            "Charlie's Angels                             11  Three beauties use their looks, charm and martial-arts training to kick butt on the trail of stolen software in this reboot of the classic TV series.\n",
            "Spy Kids 2: The Island of Lost Dreams        11  Spy kids Carmen and Juni Cortez team up with two other pint-size secret agents, Gary and Gerti Giggles, in order to take on an evil scientist.\n",
            "The Amazing Praybeyt Benjamin                10  Now a celebrity, Benjie is tasked with taking care of a General's young son, who has information about a looming terrorist threat.\n",
            "Rembat                                        9  Two huge soccer fans must go on a rambunctious road trip to fix a big match between Malaysia and Thailand, or they'll draw the ire of a loan shark.\n",
            "National Treasure                             9  Modern treasure hunters search for a chest of riches rumored to have been stashed away by George Washington, Thomas Jefferson and Benjamin Franklin.\n",
            "Bitcoin Heist                                 9  A unconventional, efficient Interpol special agent goes rogue and assembles a team of thieves to catch a shadowy hacker called \"The Ghost.\"\n",
            "Antidote                                      9  A tough-as-nails treasure hunter protects a humanitarian doctor as she tries to cure a supernatural disease caused by a mysterious witch.\n",
            "Stuart Little 2                               9  Zany misadventures are in store as lovable city mouse Stuart and his human brother, George, raise the roof in this sequel to the 1999 blockbuster.\n",
            "Death Race: Beyond Anarchy                    9  An ex-racecar driver is sent to a barbaric prison where, to get pardoned, he must defeat the inmate known as Frankenstein in a lethal \"Death Race.\"\n",
            "=====================================  ========  ======================================================================================================================================================\n"
          ],
          "name": "stdout"
        }
      ]
    },
    {
      "cell_type": "code",
      "metadata": {
        "id": "4vRhtDtOwKTd",
        "colab_type": "code",
        "colab": {
          "base_uri": "https://localhost:8080/",
          "height": 406
        },
        "outputId": "516661d7-16f0-4d5a-c20c-59ff57cc03a8"
      },
      "source": [
        "returnrecommendations(selected_movie, erg_adam_array, verbose=True)"
      ],
      "execution_count": 28,
      "outputs": [
        {
          "output_type": "stream",
          "text": [
            "For the movie:\n",
            "\n",
            "****************************************\n",
            "The Ridiculous 6\n",
            "****************************************\n",
            "\n",
            "We can recommend the following movies:\n",
            "\n",
            "=====================================  ========  ======================================================================================================================================================\n",
            "Movie Name                                Score  Description\n",
            "=====================================  ========  ======================================================================================================================================================\n",
            "You Don't Mess with the Zohan               384  An Israeli counterterrorism soldier with a secretly fabulous ambition to become a Manhattan hairstylist will do anything to make his dreams come true.\n",
            "Charlie's Angels                            202  Three beauties use their looks, charm and martial-arts training to kick butt on the trail of stolen software in this reboot of the classic TV series.\n",
            "The Rugrats Movie                           183  When his baby brother Dil is born, Tommy Pickles and his pals decide that he's too much responsibility and try to return him to the hospital.\n",
            "Spy Kids 2: The Island of Lost Dreams       181  Spy kids Carmen and Juni Cortez team up with two other pint-size secret agents, Gary and Gerti Giggles, in order to take on an evil scientist.\n",
            "Tracers                                     180  When a bike messenger falls into debt with organized criminals, a sexy woman draws him into her high-stakes world of parkour, teaching him new skills.\n",
            "The Spiderwick Chronicles                   161  When city-raised twins move to a tumbledown country mansion, it's quite an adjustment – especially after they uncover a magical fantasy world.\n",
            "My Life as a Zucchini                       144  A 9-year-old boy finds his life upended when he's sent to live in an orphanage in this stop-motion animated tale of loss, friendship and young love.\n",
            "A Russell Peters Christmas                  144  Inspired by the variety shows of the 1970s, \"A Russell Peters Christmas\" is a sweet, silly, sentimental and, most of all, funny Christmas special.\n",
            "Bolt                                        130  This tale follows German shepherd Bolt, a canine actor who makes a cross-country trek when he's mistakenly shipped from Hollywood to New York City.\n",
            "Daddy Day Care                              130  When a conscientious father loses his lucrative dot-com job and faces economic ruin, he joins two friends in opening a business called Daddy Day Care.\n",
            "=====================================  ========  ======================================================================================================================================================\n"
          ],
          "name": "stdout"
        }
      ]
    }
  ]
}