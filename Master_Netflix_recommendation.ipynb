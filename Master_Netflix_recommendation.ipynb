{
  "nbformat": 4,
  "nbformat_minor": 0,
  "metadata": {
    "colab": {
      "name": "Master Netflix recommendation.ipynb",
      "provenance": [],
      "collapsed_sections": [],
      "toc_visible": true,
      "include_colab_link": true
    },
    "kernelspec": {
      "name": "python3",
      "display_name": "Python 3"
    }
  },
  "cells": [
    {
      "cell_type": "markdown",
      "metadata": {
        "id": "view-in-github",
        "colab_type": "text"
      },
      "source": [
        "<a href=\"https://colab.research.google.com/github/igoekce/netflixrecommender/blob/master/Master_Netflix_recommendation.ipynb\" target=\"_parent\"><img src=\"https://colab.research.google.com/assets/colab-badge.svg\" alt=\"Open In Colab\"/></a>"
      ]
    },
    {
      "cell_type": "markdown",
      "metadata": {
        "id": "ppLD_dt5j88a",
        "colab_type": "text"
      },
      "source": [
        "#Data Preprocessing"
      ]
    },
    {
      "cell_type": "markdown",
      "metadata": {
        "id": "1YkfjtRS5-hH",
        "colab_type": "text"
      },
      "source": [
        "## Import"
      ]
    },
    {
      "cell_type": "code",
      "metadata": {
        "id": "y9wKdR9lcR-P",
        "colab_type": "code",
        "colab": {}
      },
      "source": [
        "# import librairies\n",
        "import networkx as nx\n",
        "import pandas as pd\n",
        "import numpy as np\n",
        "import math as math\n",
        "import time \n",
        "\n",
        "filepath = 'https://raw.githubusercontent.com/igoekce/netflixrecommender/master/netflix_titles.csv'\n",
        "\n",
        "df = pd.read_csv(filepath)"
      ],
      "execution_count": null,
      "outputs": []
    },
    {
      "cell_type": "markdown",
      "metadata": {
        "id": "bKKcd0iMn3tA",
        "colab_type": "text"
      },
      "source": [
        "##Variables"
      ]
    },
    {
      "cell_type": "code",
      "metadata": {
        "id": "fX0jBugqn2r9",
        "colab_type": "code",
        "colab": {}
      },
      "source": [
        "selected_movie = 'The Ridiculous 6'  #Input movie title\n",
        "num_rec = 10 #Input max number of recommendations\n",
        "# possible cols w/o title: 'type','director', 'cast', 'country', 'date_added', 'release_year', 'rating', 'duration', 'listed_in', 'description'\n",
        "features = ['rating', 'cast', 'release_year', 'country', 'listed_in'] \n",
        "k=0.1"
      ],
      "execution_count": null,
      "outputs": []
    },
    {
      "cell_type": "markdown",
      "metadata": {
        "id": "iso97dQNifF4",
        "colab_type": "text"
      },
      "source": [
        "## Separation"
      ]
    },
    {
      "cell_type": "code",
      "metadata": {
        "id": "pqrPxfnK9vhR",
        "colab_type": "code",
        "colab": {}
      },
      "source": [
        "df = df.dropna()"
      ],
      "execution_count": null,
      "outputs": []
    },
    {
      "cell_type": "code",
      "metadata": {
        "id": "3wbrtj_VuYBm",
        "colab_type": "code",
        "colab": {}
      },
      "source": [
        "df = df.drop_duplicates()"
      ],
      "execution_count": null,
      "outputs": []
    },
    {
      "cell_type": "code",
      "metadata": {
        "id": "wLZfG241uo-3",
        "colab_type": "code",
        "colab": {
          "base_uri": "https://localhost:8080/",
          "height": 218
        },
        "outputId": "dc5cac5e-7c60-40b4-d470-22f63a3c905d"
      },
      "source": [
        "df['title'].sample"
      ],
      "execution_count": null,
      "outputs": [
        {
          "output_type": "execute_result",
          "data": {
            "text/plain": [
              "<bound method NDFrame.sample of 0       Norm of the North: King Sized Adventure\n",
              "4                                  #realityhigh\n",
              "6                                      Automata\n",
              "7            Fabrizio Copano: Solo pienso en mi\n",
              "9                                   Good People\n",
              "                         ...                   \n",
              "6142              The Great British Baking Show\n",
              "6158    Miraculous: Tales of Ladybug & Cat Noir\n",
              "6167                               Sacred Games\n",
              "6182                           Men on a Mission\n",
              "6213                           Leyla and Mecnun\n",
              "Name: title, Length: 3774, dtype: object>"
            ]
          },
          "metadata": {
            "tags": []
          },
          "execution_count": 58
        }
      ]
    },
    {
      "cell_type": "code",
      "metadata": {
        "id": "e1MAhmCAoaAQ",
        "colab_type": "code",
        "colab": {}
      },
      "source": [
        "df = df.sample(int(k*df.shape[0]), random_state=42)"
      ],
      "execution_count": null,
      "outputs": []
    },
    {
      "cell_type": "code",
      "metadata": {
        "id": "iu6q_L3z-7YN",
        "colab_type": "code",
        "colab": {}
      },
      "source": [
        "def splitDataFrameList(df,target_column,separator):\n",
        "    ''' df = dataframe to split,\n",
        "    target_column = the column containing the values to split\n",
        "    separator = the symbol used to perform the split\n",
        "    returns: a dataframe with each entry for the target column separated, with each element moved into a new row. \n",
        "    The values in the other columns are duplicated across the newly divided rows.\n",
        "    '''\n",
        "    def splitListToRows(row,row_accumulator,target_column,separator):\n",
        "        split_row = row[target_column].split(separator)\n",
        "        for s in split_row:\n",
        "            new_row = row.to_dict()\n",
        "            new_row[target_column] = s\n",
        "            row_accumulator.append(new_row)\n",
        "    new_rows = []\n",
        "    df.apply(splitListToRows,axis=1,args = (new_rows,target_column,separator))\n",
        "    new_df = pd.DataFrame(new_rows)\n",
        "    return new_df"
      ],
      "execution_count": null,
      "outputs": []
    },
    {
      "cell_type": "code",
      "metadata": {
        "id": "CGt5_uIM--EU",
        "colab_type": "code",
        "colab": {}
      },
      "source": [
        "df = splitDataFrameList(df,'cast',',')\n",
        "df = splitDataFrameList(df,'country',',')\n",
        "df = splitDataFrameList(df,'listed_in',',')"
      ],
      "execution_count": null,
      "outputs": []
    },
    {
      "cell_type": "markdown",
      "metadata": {
        "id": "s1klAfzPo2cI",
        "colab_type": "text"
      },
      "source": [
        "##Function generating Edge List"
      ]
    },
    {
      "cell_type": "code",
      "metadata": {
        "id": "HFd9ONUrol93",
        "colab_type": "code",
        "colab": {}
      },
      "source": [
        "def eg_generator(features):\n",
        "  df1 = pd.DataFrame(columns = ['title', 'value']) \n",
        "  for feature in features:\n",
        "    print(feature)\n",
        "    df_temp = df[['title', feature]].copy()\n",
        "    df_temp.columns = ['title', 'value']\n",
        "    df1 = pd.concat([df1, df_temp], axis=0)\n",
        "  return df1"
      ],
      "execution_count": null,
      "outputs": []
    },
    {
      "cell_type": "code",
      "metadata": {
        "id": "tT3QJdPDStaK",
        "colab_type": "code",
        "colab": {
          "base_uri": "https://localhost:8080/",
          "height": 67
        },
        "outputId": "804de8d7-ffbf-4374-9196-15a34e09d57b"
      },
      "source": [
        "print('possible cols w/o title:', df.columns)"
      ],
      "execution_count": null,
      "outputs": [
        {
          "output_type": "stream",
          "text": [
            "possible cols w/o title: Index(['show_id', 'type', 'title', 'director', 'cast', 'country', 'date_added',\n",
            "       'release_year', 'rating', 'duration', 'listed_in', 'description'],\n",
            "      dtype='object')\n"
          ],
          "name": "stdout"
        }
      ]
    },
    {
      "cell_type": "code",
      "metadata": {
        "id": "iMslTjdc0Iy0",
        "colab_type": "code",
        "colab": {
          "base_uri": "https://localhost:8080/",
          "height": 101
        },
        "outputId": "d52695c5-7068-4b48-d036-153cef1e1f13"
      },
      "source": [
        "df_model = eg_generator(features)"
      ],
      "execution_count": null,
      "outputs": [
        {
          "output_type": "stream",
          "text": [
            "rating\n",
            "cast\n",
            "release_year\n",
            "country\n",
            "listed_in\n"
          ],
          "name": "stdout"
        }
      ]
    },
    {
      "cell_type": "markdown",
      "metadata": {
        "id": "Y1Qp548qj6QO",
        "colab_type": "text"
      },
      "source": [
        "# Modelling"
      ]
    },
    {
      "cell_type": "markdown",
      "metadata": {
        "id": "2majPTKemw2m",
        "colab_type": "text"
      },
      "source": [
        "##Generating G"
      ]
    },
    {
      "cell_type": "code",
      "metadata": {
        "id": "DYS7NgqwlE4R",
        "colab_type": "code",
        "colab": {}
      },
      "source": [
        "# Graphen erstellen\n",
        "import networkx as nx\n",
        "G = nx.from_pandas_edgelist(df_model, source='title', target='value')"
      ],
      "execution_count": null,
      "outputs": []
    },
    {
      "cell_type": "markdown",
      "metadata": {
        "id": "x7gtMsx5m1kO",
        "colab_type": "text"
      },
      "source": [
        "## Calculation of Adar and Jaccard"
      ]
    },
    {
      "cell_type": "code",
      "metadata": {
        "id": "mzOo_vn6laWe",
        "colab_type": "code",
        "colab": {}
      },
      "source": [
        "# Ermittlung Jaccard Coeffizient\n",
        "jacc_gen = nx.jaccard_coefficient(G) #Generator für Jaccard Koeffizient"
      ],
      "execution_count": null,
      "outputs": []
    },
    {
      "cell_type": "code",
      "metadata": {
        "id": "9e1spNKblbO7",
        "colab_type": "code",
        "colab": {}
      },
      "source": [
        "# Ermittlung Adamic Adar Coeffizient\n",
        "adam_ad = nx.adamic_adar_index(G)  #Generator für Adamic_Adar_Index"
      ],
      "execution_count": null,
      "outputs": []
    },
    {
      "cell_type": "code",
      "metadata": {
        "id": "hTrkFUTSlgeu",
        "colab_type": "code",
        "colab": {}
      },
      "source": [
        "jacc_dict = {}\n",
        "for u,v,p in jacc_gen:\n",
        "  jacc_dict[(u, v)] = p"
      ],
      "execution_count": null,
      "outputs": []
    },
    {
      "cell_type": "code",
      "metadata": {
        "id": "0dQSKmyGlilN",
        "colab_type": "code",
        "colab": {}
      },
      "source": [
        "adam_ad_dict = {}\n",
        "for u,v,p in adam_ad:\n",
        "  adam_ad_dict[(u, v)] = p"
      ],
      "execution_count": null,
      "outputs": []
    },
    {
      "cell_type": "code",
      "metadata": {
        "id": "O8AzSevrlrjB",
        "colab_type": "code",
        "colab": {}
      },
      "source": [
        "results_jacc = {}\n",
        "for key in jacc_dict:\n",
        "  if selected_movie in key:\n",
        "    results_jacc[key] = jacc_dict[key]"
      ],
      "execution_count": null,
      "outputs": []
    },
    {
      "cell_type": "code",
      "metadata": {
        "id": "7X8w8iS0lodH",
        "colab_type": "code",
        "colab": {}
      },
      "source": [
        "results_adam = {}\n",
        "for key in adam_ad_dict:\n",
        "  if selected_movie in key:\n",
        "    results_adam[key] = adam_ad_dict[key]"
      ],
      "execution_count": null,
      "outputs": []
    },
    {
      "cell_type": "markdown",
      "metadata": {
        "id": "azx_ksdtm7IO",
        "colab_type": "text"
      },
      "source": [
        "##Preparing and sorting final recommendation"
      ]
    },
    {
      "cell_type": "code",
      "metadata": {
        "id": "vhp92b1glzZR",
        "colab_type": "code",
        "colab": {}
      },
      "source": [
        "import operator\n",
        "results_jacc_sorted = sorted(results_jacc.items(), key=operator.itemgetter(1), reverse=True)\n",
        "results_adam_sorted = sorted(results_adam.items(), key=operator.itemgetter(1), reverse=True)"
      ],
      "execution_count": null,
      "outputs": []
    },
    {
      "cell_type": "code",
      "metadata": {
        "id": "WzRiCrCZl6bc",
        "colab_type": "code",
        "colab": {}
      },
      "source": [
        "import numpy as np\n",
        "erg_jacc = results_jacc_sorted[:num_rec]\n",
        "erg_jacc_only = [tup[1] for tup in erg_jacc]\n",
        "erg_jacc_recom = [tup[0] for tup in erg_jacc ]\n",
        "erg_jacc_rec =[tup[0] if tup[0]!=selected_movie else tup[1] for tup in erg_jacc_recom ]\n",
        "erg_jacc_array = np.column_stack((erg_jacc_rec, erg_jacc_only))\n",
        "set_jacc = set(erg_jacc_rec)\n",
        "erg_jacc_top = [tup[1] for tup in erg_jacc]"
      ],
      "execution_count": null,
      "outputs": []
    },
    {
      "cell_type": "code",
      "metadata": {
        "id": "yRJFE6PbmYtj",
        "colab_type": "code",
        "colab": {}
      },
      "source": [
        "erg_adam = results_adam_sorted[:num_rec]\n",
        "erg_adam_only = [tup[1] for tup in erg_adam]\n",
        "erg_adam_recom = [tup[0] for tup in erg_adam ]\n",
        "erg_adam_rec =[tup[0] if tup[0]!=selected_movie else tup[1] for tup in erg_adam_recom ]\n",
        "erg_adam_array = np.column_stack((erg_adam_rec, erg_adam_only))\n",
        "set_adam = set(erg_adam_rec)"
      ],
      "execution_count": null,
      "outputs": []
    },
    {
      "cell_type": "code",
      "metadata": {
        "id": "3pWDje2VqIcl",
        "colab_type": "code",
        "colab": {
          "base_uri": "https://localhost:8080/",
          "height": 202
        },
        "outputId": "33dc7328-f9e3-4133-da90-bec58cc2e85a"
      },
      "source": [
        "erg_jacc_array"
      ],
      "execution_count": null,
      "outputs": [
        {
          "output_type": "execute_result",
          "data": {
            "text/plain": [
              "array([['Rembat', '0.12121212121212122'],\n",
              "       ['The Other One: The Long Strange Trip of Bob Weir',\n",
              "        '0.10344827586206896'],\n",
              "       ['The Amazing Praybeyt Benjamin', '0.09090909090909091'],\n",
              "       ['National Treasure', '0.08571428571428572'],\n",
              "       ['Death Race: Beyond Anarchy', '0.08333333333333333'],\n",
              "       ['Stuart Little 2', '0.08333333333333333'],\n",
              "       ['Austin Powers in Goldmember', '0.08108108108108109'],\n",
              "       ['Money Talks', '0.08108108108108109'],\n",
              "       ['Expo', '0.08108108108108109'],\n",
              "       ['Judwaa 2', '0.08108108108108109']], dtype='<U48')"
            ]
          },
          "metadata": {
            "tags": []
          },
          "execution_count": 75
        }
      ]
    },
    {
      "cell_type": "code",
      "metadata": {
        "id": "1VAvYYprmiES",
        "colab_type": "code",
        "colab": {
          "base_uri": "https://localhost:8080/",
          "height": 34
        },
        "outputId": "12d1a87b-beb2-4702-bf31-f0d4fc12bdc7"
      },
      "source": [
        "intersec = set_adam.intersection(set_jacc)\n",
        "len(intersec)"
      ],
      "execution_count": null,
      "outputs": [
        {
          "output_type": "execute_result",
          "data": {
            "text/plain": [
              "5"
            ]
          },
          "metadata": {
            "tags": []
          },
          "execution_count": 76
        }
      ]
    },
    {
      "cell_type": "code",
      "metadata": {
        "id": "35WGuQkCml5s",
        "colab_type": "code",
        "colab": {
          "base_uri": "https://localhost:8080/",
          "height": 101
        },
        "outputId": "351d6100-ff11-46d3-a53f-d32d93a31c1b"
      },
      "source": [
        "intersec"
      ],
      "execution_count": null,
      "outputs": [
        {
          "output_type": "execute_result",
          "data": {
            "text/plain": [
              "{'Death Race: Beyond Anarchy',\n",
              " 'National Treasure',\n",
              " 'Rembat',\n",
              " 'Stuart Little 2',\n",
              " 'The Amazing Praybeyt Benjamin'}"
            ]
          },
          "metadata": {
            "tags": []
          },
          "execution_count": 77
        }
      ]
    },
    {
      "cell_type": "code",
      "metadata": {
        "id": "sI6nmc2umodO",
        "colab_type": "code",
        "colab": {
          "base_uri": "https://localhost:8080/",
          "height": 34
        },
        "outputId": "71dec726-def2-4983-c6b2-bfb09494a2a0"
      },
      "source": [
        "#Proportion of common top recommendations (jacc and adam) #with respect to chosen number of recommendations (num_rec)\n",
        "prop_com_rec = len(intersec)/(num_rec)*100\n",
        "print(f'Proportion of common top recommendations {prop_com_rec} %')"
      ],
      "execution_count": null,
      "outputs": [
        {
          "output_type": "stream",
          "text": [
            "Proportion of common top recommendations 50.0 %\n"
          ],
          "name": "stdout"
        }
      ]
    },
    {
      "cell_type": "markdown",
      "metadata": {
        "id": "WTKzTKpYnLeq",
        "colab_type": "text"
      },
      "source": [
        "# User Recommendation"
      ]
    },
    {
      "cell_type": "code",
      "metadata": {
        "id": "XByLKqOet3nS",
        "colab_type": "code",
        "colab": {}
      },
      "source": [
        "from tabulate import tabulate"
      ],
      "execution_count": null,
      "outputs": []
    },
    {
      "cell_type": "code",
      "metadata": {
        "id": "zYMf6sdIngyk",
        "colab_type": "code",
        "colab": {}
      },
      "source": [
        "def returnrecommendations(title, movielist, verbose=False):\n",
        "  print('For the movie:' + '\\n')\n",
        "  print('*'*40)\n",
        "  print(title)\n",
        "  print('*'*40 + '\\n')\n",
        "  print('We can recommend the following movies:' + '\\n')\n",
        "\n",
        "  table = []\n",
        "\n",
        "  if verbose == False:\n",
        "    for movie, value in movielist:\n",
        "      value = round(float(value), 2) * 100\n",
        "      table.append([movie, value])\n",
        "\n",
        "    return print(tabulate(table, headers=[\"Movie Name\", ' Score'], tablefmt='rst'))\n",
        "  \n",
        "  if verbose == True:\n",
        "    for movie, value in movielist:\n",
        "      value = round(float(value), 2) * 100\n",
        "      # check if description is available\n",
        "      try:\n",
        "        description = df.loc[df['title'] == movie, 'description'].values[0]\n",
        "      except:\n",
        "        description = 'No description available'      \n",
        "      table.append([movie, value, description])\n",
        "\n",
        "    return print(tabulate(table, headers=[\"Movie Name\", ' Score', 'Description'], tablefmt='rst'))"
      ],
      "execution_count": null,
      "outputs": []
    },
    {
      "cell_type": "code",
      "metadata": {
        "id": "vx1RjhUonh0G",
        "colab_type": "code",
        "colab": {
          "base_uri": "https://localhost:8080/",
          "height": 406
        },
        "outputId": "cf6c8706-489f-4876-8a94-f4a6e41ac99a"
      },
      "source": [
        "returnrecommendations(selected_movie, erg_jacc_array, verbose=True)"
      ],
      "execution_count": null,
      "outputs": [
        {
          "output_type": "stream",
          "text": [
            "For the movie:\n",
            "\n",
            "****************************************\n",
            "The Ridiculous 6\n",
            "****************************************\n",
            "\n",
            "We can recommend the following movies:\n",
            "\n",
            "================================================  ========  ======================================================================================================================================================\n",
            "Movie Name                                           Score  Description\n",
            "================================================  ========  ======================================================================================================================================================\n",
            "Rembat                                                  12  Two huge soccer fans must go on a rambunctious road trip to fix a big match between Malaysia and Thailand, or they'll draw the ire of a loan shark.\n",
            "The Other One: The Long Strange Trip of Bob Weir        10  This chronicle of Bob Weir highlights his brotherhood with Jerry Garcia and his success as a member of one of the world's most influential bands.\n",
            "The Amazing Praybeyt Benjamin                            9  Now a celebrity, Benjie is tasked with taking care of a General's young son, who has information about a looming terrorist threat.\n",
            "National Treasure                                        9  Modern treasure hunters search for a chest of riches rumored to have been stashed away by George Washington, Thomas Jefferson and Benjamin Franklin.\n",
            "Death Race: Beyond Anarchy                               8  An ex-racecar driver is sent to a barbaric prison where, to get pardoned, he must defeat the inmate known as Frankenstein in a lethal \"Death Race.\"\n",
            "Stuart Little 2                                          8  Zany misadventures are in store as lovable city mouse Stuart and his human brother, George, raise the roof in this sequel to the 1999 blockbuster.\n",
            "Austin Powers in Goldmember                              8  The world's most shagadelic spy continues his fight against the diabolical Dr. Evil, who's teamed with a new foe: 1970s villain Goldmember.\n",
            "Money Talks                                              8  TV news reporter James Russell helps put small-time criminal Franklin Hatchett in jail, but turns to protecting Hatchett when he escapes from prison.\n",
            "Expo                                                     8  Mistakenly accused of kidnapping, a veteran soldier leaves a trail of broken bad guys in his wake as he tries to rescue a teen sex trafficking victim.\n",
            "Judwaa 2                                                 8  Separated at birth, twins Raja and Prem couldn't be more different. But when fate puts them both in London, they start being mistaken for each other.\n",
            "================================================  ========  ======================================================================================================================================================\n"
          ],
          "name": "stdout"
        }
      ]
    },
    {
      "cell_type": "code",
      "metadata": {
        "id": "4vRhtDtOwKTd",
        "colab_type": "code",
        "colab": {
          "base_uri": "https://localhost:8080/",
          "height": 386
        },
        "outputId": "99f303cf-5c99-4043-8ec1-37b24ac7c45c"
      },
      "source": [
        "returnrecommendations(selected_movie, erg_adam_array, verbose=True)"
      ],
      "execution_count": null,
      "outputs": [
        {
          "output_type": "stream",
          "text": [
            "For the movie:\n",
            "\n",
            "****************************************\n",
            "The Ridiculous 6\n",
            "****************************************\n",
            "\n",
            "We can recommend the following movies:\n",
            "\n",
            "=============================  ========  ====================================================================================================================================================\n",
            "Movie Name                        Score  Description\n",
            "=============================  ========  ====================================================================================================================================================\n",
            "The Rugrats Movie                   193  When his baby brother Dil is born, Tommy Pickles and his pals decide that he's too much responsibility and try to return him to the hospital.\n",
            "Stuart Little 2                     193  Zany misadventures are in store as lovable city mouse Stuart and his human brother, George, raise the roof in this sequel to the 1999 blockbuster.\n",
            "National Treasure                   188  Modern treasure hunters search for a chest of riches rumored to have been stashed away by George Washington, Thomas Jefferson and Benjamin Franklin.\n",
            "The Spiderwick Chronicles           164  When city-raised twins move to a tumbledown country mansion, it's quite an adjustment – especially after they uncover a magical fantasy world.\n",
            "Death Race: Beyond Anarchy          135  An ex-racecar driver is sent to a barbaric prison where, to get pardoned, he must defeat the inmate known as Frankenstein in a lethal \"Death Race.\"\n",
            "#Roxy                               114  A teenage hacker with a huge nose helps a cool kid woo a girl that he’s secretly in love with.\n",
            "Rembat                              106  Two huge soccer fans must go on a rambunctious road trip to fix a big match between Malaysia and Thailand, or they'll draw the ire of a loan shark.\n",
            "Dilwale                              76  A young couple falls in love, but conflicting loyalties drive them apart. Years later, fate intervenes and hands them a second chance.\n",
            "The Amazing Praybeyt Benjamin        76  Now a celebrity, Benjie is tasked with taking care of a General's young son, who has information about a looming terrorist threat.\n",
            "One 2 Ka 4                           76  When his partner is killed, a young cop is forced to care for the man's four children, and solicits the help of a woman who moves in with them.\n",
            "=============================  ========  ====================================================================================================================================================\n"
          ],
          "name": "stdout"
        }
      ]
    }
  ]
}