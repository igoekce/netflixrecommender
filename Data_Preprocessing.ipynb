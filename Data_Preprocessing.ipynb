{
  "nbformat": 4,
  "nbformat_minor": 0,
  "metadata": {
    "colab": {
      "name": "Data Preprocessing.ipynb",
      "provenance": [],
      "collapsed_sections": [],
      "toc_visible": true,
      "include_colab_link": true
    },
    "kernelspec": {
      "name": "python3",
      "display_name": "Python 3"
    }
  },
  "cells": [
    {
      "cell_type": "markdown",
      "metadata": {
        "id": "view-in-github",
        "colab_type": "text"
      },
      "source": [
        "<a href=\"https://colab.research.google.com/github/igoekce/netflixrecommender/blob/Data-Preprocessing/Data_Preprocessing.ipynb\" target=\"_parent\"><img src=\"https://colab.research.google.com/assets/colab-badge.svg\" alt=\"Open In Colab\"/></a>"
      ]
    },
    {
      "cell_type": "markdown",
      "metadata": {
        "id": "1YkfjtRS5-hH",
        "colab_type": "text"
      },
      "source": [
        "# Import"
      ]
    },
    {
      "cell_type": "code",
      "metadata": {
        "id": "y9wKdR9lcR-P",
        "colab_type": "code",
        "colab": {}
      },
      "source": [
        "# import librairies\n",
        "import networkx as nx\n",
        "import matplotlib.pyplot as plt\n",
        "import pandas as pd\n",
        "import numpy as np\n",
        "import math as math\n",
        "import time \n",
        "plt.style.use('seaborn')\n",
        "plt.rcParams['figure.figsize'] = [14,14]\n",
        "\n",
        "filepath = 'https://raw.githubusercontent.com/igoekce/netflixrecommender/master/netflix_titles.csv'\n",
        "\n",
        "df = pd.read_csv(filepath)"
      ],
      "execution_count": null,
      "outputs": []
    },
    {
      "cell_type": "code",
      "metadata": {
        "id": "3pqDnJ-EXY1j",
        "colab_type": "code",
        "colab": {
          "base_uri": "https://localhost:8080/",
          "height": 354
        },
        "outputId": "1a115cbd-0f4a-4ec9-844a-142f7e2e9427"
      },
      "source": [
        "df.info()"
      ],
      "execution_count": null,
      "outputs": [
        {
          "output_type": "stream",
          "text": [
            "<class 'pandas.core.frame.DataFrame'>\n",
            "RangeIndex: 6234 entries, 0 to 6233\n",
            "Data columns (total 12 columns):\n",
            " #   Column        Non-Null Count  Dtype \n",
            "---  ------        --------------  ----- \n",
            " 0   show_id       6234 non-null   int64 \n",
            " 1   type          6234 non-null   object\n",
            " 2   title         6234 non-null   object\n",
            " 3   director      4265 non-null   object\n",
            " 4   cast          5664 non-null   object\n",
            " 5   country       5758 non-null   object\n",
            " 6   date_added    6223 non-null   object\n",
            " 7   release_year  6234 non-null   int64 \n",
            " 8   rating        6224 non-null   object\n",
            " 9   duration      6234 non-null   object\n",
            " 10  listed_in     6234 non-null   object\n",
            " 11  description   6234 non-null   object\n",
            "dtypes: int64(2), object(10)\n",
            "memory usage: 584.6+ KB\n"
          ],
          "name": "stdout"
        }
      ]
    },
    {
      "cell_type": "code",
      "metadata": {
        "id": "Ct_tyM_fa_Id",
        "colab_type": "code",
        "colab": {
          "base_uri": "https://localhost:8080/",
          "height": 354
        },
        "outputId": "68eb71a2-ffb9-4a17-ae0a-4394b22416fd"
      },
      "source": [
        "#Erzeugung eines Datensatzes mit 20% der Daten\n",
        "df = df.sample(int(df.shape[0]*0.2))\n",
        "df.info()"
      ],
      "execution_count": null,
      "outputs": [
        {
          "output_type": "stream",
          "text": [
            "<class 'pandas.core.frame.DataFrame'>\n",
            "Int64Index: 1246 entries, 5599 to 1259\n",
            "Data columns (total 12 columns):\n",
            " #   Column        Non-Null Count  Dtype \n",
            "---  ------        --------------  ----- \n",
            " 0   show_id       1246 non-null   int64 \n",
            " 1   type          1246 non-null   object\n",
            " 2   title         1246 non-null   object\n",
            " 3   director      845 non-null    object\n",
            " 4   cast          1127 non-null   object\n",
            " 5   country       1144 non-null   object\n",
            " 6   date_added    1242 non-null   object\n",
            " 7   release_year  1246 non-null   int64 \n",
            " 8   rating        1243 non-null   object\n",
            " 9   duration      1246 non-null   object\n",
            " 10  listed_in     1246 non-null   object\n",
            " 11  description   1246 non-null   object\n",
            "dtypes: int64(2), object(10)\n",
            "memory usage: 126.5+ KB\n"
          ],
          "name": "stdout"
        }
      ]
    },
    {
      "cell_type": "code",
      "metadata": {
        "id": "XU53KT64QiGA",
        "colab_type": "code",
        "colab": {
          "base_uri": "https://localhost:8080/",
          "height": 573
        },
        "outputId": "f8ecd0c9-5ae8-48f0-b7f5-0b25ae62a1c9"
      },
      "source": [
        "df"
      ],
      "execution_count": null,
      "outputs": [
        {
          "output_type": "execute_result",
          "data": {
            "text/html": [
              "<div>\n",
              "<style scoped>\n",
              "    .dataframe tbody tr th:only-of-type {\n",
              "        vertical-align: middle;\n",
              "    }\n",
              "\n",
              "    .dataframe tbody tr th {\n",
              "        vertical-align: top;\n",
              "    }\n",
              "\n",
              "    .dataframe thead th {\n",
              "        text-align: right;\n",
              "    }\n",
              "</style>\n",
              "<table border=\"1\" class=\"dataframe\">\n",
              "  <thead>\n",
              "    <tr style=\"text-align: right;\">\n",
              "      <th></th>\n",
              "      <th>show_id</th>\n",
              "      <th>type</th>\n",
              "      <th>title</th>\n",
              "      <th>director</th>\n",
              "      <th>cast</th>\n",
              "      <th>country</th>\n",
              "      <th>date_added</th>\n",
              "      <th>release_year</th>\n",
              "      <th>rating</th>\n",
              "      <th>duration</th>\n",
              "      <th>listed_in</th>\n",
              "      <th>description</th>\n",
              "    </tr>\n",
              "  </thead>\n",
              "  <tbody>\n",
              "    <tr>\n",
              "      <th>5599</th>\n",
              "      <td>80216752</td>\n",
              "      <td>TV Show</td>\n",
              "      <td>Explained</td>\n",
              "      <td>NaN</td>\n",
              "      <td>NaN</td>\n",
              "      <td>United States</td>\n",
              "      <td>September 26, 2019</td>\n",
              "      <td>2019</td>\n",
              "      <td>TV-14</td>\n",
              "      <td>2 Seasons</td>\n",
              "      <td>Docuseries</td>\n",
              "      <td>This enlightening series from Vox digs into a ...</td>\n",
              "    </tr>\n",
              "    <tr>\n",
              "      <th>1692</th>\n",
              "      <td>70259801</td>\n",
              "      <td>Movie</td>\n",
              "      <td>Olympus Has Fallen</td>\n",
              "      <td>Antoine Fuqua</td>\n",
              "      <td>Gerard Butler, Aaron Eckhart, Morgan Freeman, ...</td>\n",
              "      <td>United States</td>\n",
              "      <td>May 2, 2019</td>\n",
              "      <td>2013</td>\n",
              "      <td>R</td>\n",
              "      <td>119 min</td>\n",
              "      <td>Action &amp; Adventure</td>\n",
              "      <td>A disgraced Secret Service agent must come to ...</td>\n",
              "    </tr>\n",
              "    <tr>\n",
              "      <th>5955</th>\n",
              "      <td>80091742</td>\n",
              "      <td>TV Show</td>\n",
              "      <td>Last Chance U</td>\n",
              "      <td>NaN</td>\n",
              "      <td>John Franklin III, DJ Law, Buddy Stephens, Bri...</td>\n",
              "      <td>United States</td>\n",
              "      <td>July 19, 2019</td>\n",
              "      <td>2019</td>\n",
              "      <td>TV-MA</td>\n",
              "      <td>4 Seasons</td>\n",
              "      <td>Docuseries</td>\n",
              "      <td>In a docuseries set at one of NCAA football's ...</td>\n",
              "    </tr>\n",
              "    <tr>\n",
              "      <th>3381</th>\n",
              "      <td>81144867</td>\n",
              "      <td>Movie</td>\n",
              "      <td>Saving Zoë</td>\n",
              "      <td>Jeffrey G. Hunt</td>\n",
              "      <td>Laura Marano, Vanessa Marano, Christopher Tava...</td>\n",
              "      <td>United States</td>\n",
              "      <td>January 15, 2020</td>\n",
              "      <td>2019</td>\n",
              "      <td>R</td>\n",
              "      <td>95 min</td>\n",
              "      <td>Dramas</td>\n",
              "      <td>A reserved high school freshman acts out when ...</td>\n",
              "    </tr>\n",
              "    <tr>\n",
              "      <th>1710</th>\n",
              "      <td>80996626</td>\n",
              "      <td>TV Show</td>\n",
              "      <td>Dance &amp; Sing with True</td>\n",
              "      <td>NaN</td>\n",
              "      <td>Michela Luci, Jamie Watson, Anna Claire Bartla...</td>\n",
              "      <td>NaN</td>\n",
              "      <td>May 18, 2018</td>\n",
              "      <td>2018</td>\n",
              "      <td>TV-Y</td>\n",
              "      <td>1 Season</td>\n",
              "      <td>Kids' TV</td>\n",
              "      <td>True and her friends are making music – and th...</td>\n",
              "    </tr>\n",
              "    <tr>\n",
              "      <th>...</th>\n",
              "      <td>...</td>\n",
              "      <td>...</td>\n",
              "      <td>...</td>\n",
              "      <td>...</td>\n",
              "      <td>...</td>\n",
              "      <td>...</td>\n",
              "      <td>...</td>\n",
              "      <td>...</td>\n",
              "      <td>...</td>\n",
              "      <td>...</td>\n",
              "      <td>...</td>\n",
              "      <td>...</td>\n",
              "    </tr>\n",
              "    <tr>\n",
              "      <th>3856</th>\n",
              "      <td>81026327</td>\n",
              "      <td>Movie</td>\n",
              "      <td>Firebrand</td>\n",
              "      <td>Aruna Raje</td>\n",
              "      <td>Usha Jadhav, Girish Kulkarni, Sachin Khedekar,...</td>\n",
              "      <td>India</td>\n",
              "      <td>February 22, 2019</td>\n",
              "      <td>2019</td>\n",
              "      <td>TV-MA</td>\n",
              "      <td>117 min</td>\n",
              "      <td>Dramas, International Movies</td>\n",
              "      <td>While she successfully advocates for her femal...</td>\n",
              "    </tr>\n",
              "    <tr>\n",
              "      <th>4438</th>\n",
              "      <td>80081754</td>\n",
              "      <td>TV Show</td>\n",
              "      <td>Power Rangers Dino Charge</td>\n",
              "      <td>NaN</td>\n",
              "      <td>Brennan Mejia, Camille Hyde, Yoshi Sudarso, Mi...</td>\n",
              "      <td>United States</td>\n",
              "      <td>December 2, 2015</td>\n",
              "      <td>2015</td>\n",
              "      <td>TV-Y7</td>\n",
              "      <td>1 Season</td>\n",
              "      <td>Kids' TV</td>\n",
              "      <td>In the time of dinosaurs, the ancient and powe...</td>\n",
              "    </tr>\n",
              "    <tr>\n",
              "      <th>5063</th>\n",
              "      <td>60010514</td>\n",
              "      <td>Movie</td>\n",
              "      <td>Jackie Brown</td>\n",
              "      <td>Quentin Tarantino</td>\n",
              "      <td>Pam Grier, Samuel L. Jackson, Robert Forster, ...</td>\n",
              "      <td>United States</td>\n",
              "      <td>August 1, 2019</td>\n",
              "      <td>1997</td>\n",
              "      <td>R</td>\n",
              "      <td>154 min</td>\n",
              "      <td>Dramas, Thrillers</td>\n",
              "      <td>When an aging flight attendant's caught smuggl...</td>\n",
              "    </tr>\n",
              "    <tr>\n",
              "      <th>1029</th>\n",
              "      <td>80009431</td>\n",
              "      <td>Movie</td>\n",
              "      <td>Virunga</td>\n",
              "      <td>Orlando von Einsiedel</td>\n",
              "      <td>NaN</td>\n",
              "      <td>United Kingdom,</td>\n",
              "      <td>November 7, 2014</td>\n",
              "      <td>2014</td>\n",
              "      <td>TV-MA</td>\n",
              "      <td>100 min</td>\n",
              "      <td>Documentaries, International Movies</td>\n",
              "      <td>The Oscar-nominated true story of the rangers ...</td>\n",
              "    </tr>\n",
              "    <tr>\n",
              "      <th>1259</th>\n",
              "      <td>80200267</td>\n",
              "      <td>Movie</td>\n",
              "      <td>The Ballad of Buster Scruggs</td>\n",
              "      <td>Joel Coen, Ethan Coen</td>\n",
              "      <td>Liam Neeson, James Franco, Tim Blake Nelson, T...</td>\n",
              "      <td>United States</td>\n",
              "      <td>November 16, 2018</td>\n",
              "      <td>2018</td>\n",
              "      <td>R</td>\n",
              "      <td>133 min</td>\n",
              "      <td>Comedies, Dramas</td>\n",
              "      <td>Ranging from absurd to profound, these Western...</td>\n",
              "    </tr>\n",
              "  </tbody>\n",
              "</table>\n",
              "<p>1246 rows × 12 columns</p>\n",
              "</div>"
            ],
            "text/plain": [
              "       show_id  ...                                        description\n",
              "5599  80216752  ...  This enlightening series from Vox digs into a ...\n",
              "1692  70259801  ...  A disgraced Secret Service agent must come to ...\n",
              "5955  80091742  ...  In a docuseries set at one of NCAA football's ...\n",
              "3381  81144867  ...  A reserved high school freshman acts out when ...\n",
              "1710  80996626  ...  True and her friends are making music – and th...\n",
              "...        ...  ...                                                ...\n",
              "3856  81026327  ...  While she successfully advocates for her femal...\n",
              "4438  80081754  ...  In the time of dinosaurs, the ancient and powe...\n",
              "5063  60010514  ...  When an aging flight attendant's caught smuggl...\n",
              "1029  80009431  ...  The Oscar-nominated true story of the rangers ...\n",
              "1259  80200267  ...  Ranging from absurd to profound, these Western...\n",
              "\n",
              "[1246 rows x 12 columns]"
            ]
          },
          "metadata": {
            "tags": []
          },
          "execution_count": 44
        }
      ]
    },
    {
      "cell_type": "markdown",
      "metadata": {
        "id": "-MldtR0jgbom",
        "colab_type": "text"
      },
      "source": [
        "1246 tilles = missing **director**, **cast**, **country**, date_added, rating"
      ]
    },
    {
      "cell_type": "markdown",
      "metadata": {
        "id": "42hqE9l-9wH9",
        "colab_type": "text"
      },
      "source": [
        "#separating columns multi text"
      ]
    },
    {
      "cell_type": "code",
      "metadata": {
        "id": "pqrPxfnK9vhR",
        "colab_type": "code",
        "colab": {}
      },
      "source": [
        "df_sep = df.copy()\n",
        "df_sep = df_sep.dropna()"
      ],
      "execution_count": null,
      "outputs": []
    },
    {
      "cell_type": "code",
      "metadata": {
        "id": "gQKHdepoRj5i",
        "colab_type": "code",
        "colab": {
          "base_uri": "https://localhost:8080/",
          "height": 573
        },
        "outputId": "64233ff5-93fe-4094-8fd7-166febc04f23"
      },
      "source": [
        "df_sep"
      ],
      "execution_count": null,
      "outputs": [
        {
          "output_type": "execute_result",
          "data": {
            "text/html": [
              "<div>\n",
              "<style scoped>\n",
              "    .dataframe tbody tr th:only-of-type {\n",
              "        vertical-align: middle;\n",
              "    }\n",
              "\n",
              "    .dataframe tbody tr th {\n",
              "        vertical-align: top;\n",
              "    }\n",
              "\n",
              "    .dataframe thead th {\n",
              "        text-align: right;\n",
              "    }\n",
              "</style>\n",
              "<table border=\"1\" class=\"dataframe\">\n",
              "  <thead>\n",
              "    <tr style=\"text-align: right;\">\n",
              "      <th></th>\n",
              "      <th>show_id</th>\n",
              "      <th>type</th>\n",
              "      <th>title</th>\n",
              "      <th>director</th>\n",
              "      <th>cast</th>\n",
              "      <th>country</th>\n",
              "      <th>date_added</th>\n",
              "      <th>release_year</th>\n",
              "      <th>rating</th>\n",
              "      <th>duration</th>\n",
              "      <th>listed_in</th>\n",
              "      <th>description</th>\n",
              "    </tr>\n",
              "  </thead>\n",
              "  <tbody>\n",
              "    <tr>\n",
              "      <th>1692</th>\n",
              "      <td>70259801</td>\n",
              "      <td>Movie</td>\n",
              "      <td>Olympus Has Fallen</td>\n",
              "      <td>Antoine Fuqua</td>\n",
              "      <td>Gerard Butler, Aaron Eckhart, Morgan Freeman, ...</td>\n",
              "      <td>United States</td>\n",
              "      <td>May 2, 2019</td>\n",
              "      <td>2013</td>\n",
              "      <td>R</td>\n",
              "      <td>119 min</td>\n",
              "      <td>Action &amp; Adventure</td>\n",
              "      <td>A disgraced Secret Service agent must come to ...</td>\n",
              "    </tr>\n",
              "    <tr>\n",
              "      <th>3381</th>\n",
              "      <td>81144867</td>\n",
              "      <td>Movie</td>\n",
              "      <td>Saving Zoë</td>\n",
              "      <td>Jeffrey G. Hunt</td>\n",
              "      <td>Laura Marano, Vanessa Marano, Christopher Tava...</td>\n",
              "      <td>United States</td>\n",
              "      <td>January 15, 2020</td>\n",
              "      <td>2019</td>\n",
              "      <td>R</td>\n",
              "      <td>95 min</td>\n",
              "      <td>Dramas</td>\n",
              "      <td>A reserved high school freshman acts out when ...</td>\n",
              "    </tr>\n",
              "    <tr>\n",
              "      <th>5417</th>\n",
              "      <td>80015280</td>\n",
              "      <td>Movie</td>\n",
              "      <td>Bibi &amp; Tina</td>\n",
              "      <td>Detlev Buck</td>\n",
              "      <td>Lina Larissa Strahl, Lisa-Marie Koroll, Louis ...</td>\n",
              "      <td>Germany</td>\n",
              "      <td>April 15, 2017</td>\n",
              "      <td>2014</td>\n",
              "      <td>TV-PG</td>\n",
              "      <td>97 min</td>\n",
              "      <td>Children &amp; Family Movies, Music &amp; Musicals</td>\n",
              "      <td>Teen witch Bibi and horse-loving Tina face tro...</td>\n",
              "    </tr>\n",
              "    <tr>\n",
              "      <th>1753</th>\n",
              "      <td>70153178</td>\n",
              "      <td>Movie</td>\n",
              "      <td>Once Upon a Time in Mumbaai</td>\n",
              "      <td>Milan Luthria</td>\n",
              "      <td>Ajay Devgn, Emraan Hashmi, Kangana Ranaut, Pra...</td>\n",
              "      <td>India</td>\n",
              "      <td>May 15, 2019</td>\n",
              "      <td>2010</td>\n",
              "      <td>NR</td>\n",
              "      <td>133 min</td>\n",
              "      <td>Dramas, International Movies, Music &amp; Musicals</td>\n",
              "      <td>Mumbai's top mob boss rules the underworld wit...</td>\n",
              "    </tr>\n",
              "    <tr>\n",
              "      <th>972</th>\n",
              "      <td>70153553</td>\n",
              "      <td>Movie</td>\n",
              "      <td>Harud</td>\n",
              "      <td>Aamir Bashir</td>\n",
              "      <td>Mohammad Amir Naji, Shahnawaz Bhat, Shamim Bas...</td>\n",
              "      <td>India</td>\n",
              "      <td>October 1, 2016</td>\n",
              "      <td>2010</td>\n",
              "      <td>TV-14</td>\n",
              "      <td>100 min</td>\n",
              "      <td>Dramas, International Movies</td>\n",
              "      <td>A young Kashmiri man sets out to escape to Pak...</td>\n",
              "    </tr>\n",
              "    <tr>\n",
              "      <th>...</th>\n",
              "      <td>...</td>\n",
              "      <td>...</td>\n",
              "      <td>...</td>\n",
              "      <td>...</td>\n",
              "      <td>...</td>\n",
              "      <td>...</td>\n",
              "      <td>...</td>\n",
              "      <td>...</td>\n",
              "      <td>...</td>\n",
              "      <td>...</td>\n",
              "      <td>...</td>\n",
              "      <td>...</td>\n",
              "    </tr>\n",
              "    <tr>\n",
              "      <th>571</th>\n",
              "      <td>70082633</td>\n",
              "      <td>Movie</td>\n",
              "      <td>Bhool Bhulaiyaa</td>\n",
              "      <td>Priyadarshan</td>\n",
              "      <td>Akshay Kumar, Vidya Balan, Ameesha Patel, Shin...</td>\n",
              "      <td>India</td>\n",
              "      <td>October 22, 2017</td>\n",
              "      <td>2007</td>\n",
              "      <td>TV-14</td>\n",
              "      <td>148 min</td>\n",
              "      <td>Dramas, International Movies, Thrillers</td>\n",
              "      <td>Siddharth dismisses warnings that his palace m...</td>\n",
              "    </tr>\n",
              "    <tr>\n",
              "      <th>2284</th>\n",
              "      <td>80134438</td>\n",
              "      <td>Movie</td>\n",
              "      <td>Romantik Komedi</td>\n",
              "      <td>Ketche</td>\n",
              "      <td>Sedef Avcı, Cemal Hünal, Begüm Kütük, Engin Al...</td>\n",
              "      <td>Turkey</td>\n",
              "      <td>March 10, 2017</td>\n",
              "      <td>2010</td>\n",
              "      <td>NR</td>\n",
              "      <td>110 min</td>\n",
              "      <td>Comedies, International Movies, Romantic Movies</td>\n",
              "      <td>Bored with her life and inspired by a friend's...</td>\n",
              "    </tr>\n",
              "    <tr>\n",
              "      <th>3856</th>\n",
              "      <td>81026327</td>\n",
              "      <td>Movie</td>\n",
              "      <td>Firebrand</td>\n",
              "      <td>Aruna Raje</td>\n",
              "      <td>Usha Jadhav, Girish Kulkarni, Sachin Khedekar,...</td>\n",
              "      <td>India</td>\n",
              "      <td>February 22, 2019</td>\n",
              "      <td>2019</td>\n",
              "      <td>TV-MA</td>\n",
              "      <td>117 min</td>\n",
              "      <td>Dramas, International Movies</td>\n",
              "      <td>While she successfully advocates for her femal...</td>\n",
              "    </tr>\n",
              "    <tr>\n",
              "      <th>5063</th>\n",
              "      <td>60010514</td>\n",
              "      <td>Movie</td>\n",
              "      <td>Jackie Brown</td>\n",
              "      <td>Quentin Tarantino</td>\n",
              "      <td>Pam Grier, Samuel L. Jackson, Robert Forster, ...</td>\n",
              "      <td>United States</td>\n",
              "      <td>August 1, 2019</td>\n",
              "      <td>1997</td>\n",
              "      <td>R</td>\n",
              "      <td>154 min</td>\n",
              "      <td>Dramas, Thrillers</td>\n",
              "      <td>When an aging flight attendant's caught smuggl...</td>\n",
              "    </tr>\n",
              "    <tr>\n",
              "      <th>1259</th>\n",
              "      <td>80200267</td>\n",
              "      <td>Movie</td>\n",
              "      <td>The Ballad of Buster Scruggs</td>\n",
              "      <td>Joel Coen, Ethan Coen</td>\n",
              "      <td>Liam Neeson, James Franco, Tim Blake Nelson, T...</td>\n",
              "      <td>United States</td>\n",
              "      <td>November 16, 2018</td>\n",
              "      <td>2018</td>\n",
              "      <td>R</td>\n",
              "      <td>133 min</td>\n",
              "      <td>Comedies, Dramas</td>\n",
              "      <td>Ranging from absurd to profound, these Western...</td>\n",
              "    </tr>\n",
              "  </tbody>\n",
              "</table>\n",
              "<p>739 rows × 12 columns</p>\n",
              "</div>"
            ],
            "text/plain": [
              "       show_id  ...                                        description\n",
              "1692  70259801  ...  A disgraced Secret Service agent must come to ...\n",
              "3381  81144867  ...  A reserved high school freshman acts out when ...\n",
              "5417  80015280  ...  Teen witch Bibi and horse-loving Tina face tro...\n",
              "1753  70153178  ...  Mumbai's top mob boss rules the underworld wit...\n",
              "972   70153553  ...  A young Kashmiri man sets out to escape to Pak...\n",
              "...        ...  ...                                                ...\n",
              "571   70082633  ...  Siddharth dismisses warnings that his palace m...\n",
              "2284  80134438  ...  Bored with her life and inspired by a friend's...\n",
              "3856  81026327  ...  While she successfully advocates for her femal...\n",
              "5063  60010514  ...  When an aging flight attendant's caught smuggl...\n",
              "1259  80200267  ...  Ranging from absurd to profound, these Western...\n",
              "\n",
              "[739 rows x 12 columns]"
            ]
          },
          "metadata": {
            "tags": []
          },
          "execution_count": 46
        }
      ]
    },
    {
      "cell_type": "code",
      "metadata": {
        "id": "iu6q_L3z-7YN",
        "colab_type": "code",
        "colab": {}
      },
      "source": [
        "def splitDataFrameList(df,target_column,separator):\n",
        "    ''' df = dataframe to split,\n",
        "    target_column = the column containing the values to split\n",
        "    separator = the symbol used to perform the split\n",
        "    returns: a dataframe with each entry for the target column separated, with each element moved into a new row. \n",
        "    The values in the other columns are duplicated across the newly divided rows.\n",
        "    '''\n",
        "    def splitListToRows(row,row_accumulator,target_column,separator):\n",
        "        split_row = row[target_column].split(separator)\n",
        "        for s in split_row:\n",
        "            new_row = row.to_dict()\n",
        "            new_row[target_column] = s\n",
        "            row_accumulator.append(new_row)\n",
        "    new_rows = []\n",
        "    df.apply(splitListToRows,axis=1,args = (new_rows,target_column,separator))\n",
        "    new_df = pd.DataFrame(new_rows)\n",
        "    return new_df"
      ],
      "execution_count": null,
      "outputs": []
    },
    {
      "cell_type": "code",
      "metadata": {
        "id": "CGt5_uIM--EU",
        "colab_type": "code",
        "colab": {
          "base_uri": "https://localhost:8080/",
          "height": 406
        },
        "outputId": "515f5ed8-488c-4dbc-b5a7-eb667c30cb2f"
      },
      "source": [
        "df_sep = splitDataFrameList(df_sep,'cast',',')\n",
        "df_sep = splitDataFrameList(df_sep,'country',',')\n",
        "df_sep = splitDataFrameList(df_sep,'listed_in',',')\n",
        "df_sep"
      ],
      "execution_count": null,
      "outputs": [
        {
          "output_type": "execute_result",
          "data": {
            "text/html": [
              "<div>\n",
              "<style scoped>\n",
              "    .dataframe tbody tr th:only-of-type {\n",
              "        vertical-align: middle;\n",
              "    }\n",
              "\n",
              "    .dataframe tbody tr th {\n",
              "        vertical-align: top;\n",
              "    }\n",
              "\n",
              "    .dataframe thead th {\n",
              "        text-align: right;\n",
              "    }\n",
              "</style>\n",
              "<table border=\"1\" class=\"dataframe\">\n",
              "  <thead>\n",
              "    <tr style=\"text-align: right;\">\n",
              "      <th></th>\n",
              "      <th>show_id</th>\n",
              "      <th>type</th>\n",
              "      <th>title</th>\n",
              "      <th>director</th>\n",
              "      <th>cast</th>\n",
              "      <th>country</th>\n",
              "      <th>date_added</th>\n",
              "      <th>release_year</th>\n",
              "      <th>rating</th>\n",
              "      <th>duration</th>\n",
              "      <th>listed_in</th>\n",
              "      <th>description</th>\n",
              "    </tr>\n",
              "  </thead>\n",
              "  <tbody>\n",
              "    <tr>\n",
              "      <th>0</th>\n",
              "      <td>70259801</td>\n",
              "      <td>Movie</td>\n",
              "      <td>Olympus Has Fallen</td>\n",
              "      <td>Antoine Fuqua</td>\n",
              "      <td>Gerard Butler</td>\n",
              "      <td>United States</td>\n",
              "      <td>May 2, 2019</td>\n",
              "      <td>2013</td>\n",
              "      <td>R</td>\n",
              "      <td>119 min</td>\n",
              "      <td>Action &amp; Adventure</td>\n",
              "      <td>A disgraced Secret Service agent must come to ...</td>\n",
              "    </tr>\n",
              "    <tr>\n",
              "      <th>1</th>\n",
              "      <td>70259801</td>\n",
              "      <td>Movie</td>\n",
              "      <td>Olympus Has Fallen</td>\n",
              "      <td>Antoine Fuqua</td>\n",
              "      <td>Aaron Eckhart</td>\n",
              "      <td>United States</td>\n",
              "      <td>May 2, 2019</td>\n",
              "      <td>2013</td>\n",
              "      <td>R</td>\n",
              "      <td>119 min</td>\n",
              "      <td>Action &amp; Adventure</td>\n",
              "      <td>A disgraced Secret Service agent must come to ...</td>\n",
              "    </tr>\n",
              "    <tr>\n",
              "      <th>2</th>\n",
              "      <td>70259801</td>\n",
              "      <td>Movie</td>\n",
              "      <td>Olympus Has Fallen</td>\n",
              "      <td>Antoine Fuqua</td>\n",
              "      <td>Morgan Freeman</td>\n",
              "      <td>United States</td>\n",
              "      <td>May 2, 2019</td>\n",
              "      <td>2013</td>\n",
              "      <td>R</td>\n",
              "      <td>119 min</td>\n",
              "      <td>Action &amp; Adventure</td>\n",
              "      <td>A disgraced Secret Service agent must come to ...</td>\n",
              "    </tr>\n",
              "    <tr>\n",
              "      <th>3</th>\n",
              "      <td>70259801</td>\n",
              "      <td>Movie</td>\n",
              "      <td>Olympus Has Fallen</td>\n",
              "      <td>Antoine Fuqua</td>\n",
              "      <td>Finley Jacobsen</td>\n",
              "      <td>United States</td>\n",
              "      <td>May 2, 2019</td>\n",
              "      <td>2013</td>\n",
              "      <td>R</td>\n",
              "      <td>119 min</td>\n",
              "      <td>Action &amp; Adventure</td>\n",
              "      <td>A disgraced Secret Service agent must come to ...</td>\n",
              "    </tr>\n",
              "    <tr>\n",
              "      <th>4</th>\n",
              "      <td>70259801</td>\n",
              "      <td>Movie</td>\n",
              "      <td>Olympus Has Fallen</td>\n",
              "      <td>Antoine Fuqua</td>\n",
              "      <td>Dylan McDermott</td>\n",
              "      <td>United States</td>\n",
              "      <td>May 2, 2019</td>\n",
              "      <td>2013</td>\n",
              "      <td>R</td>\n",
              "      <td>119 min</td>\n",
              "      <td>Action &amp; Adventure</td>\n",
              "      <td>A disgraced Secret Service agent must come to ...</td>\n",
              "    </tr>\n",
              "    <tr>\n",
              "      <th>...</th>\n",
              "      <td>...</td>\n",
              "      <td>...</td>\n",
              "      <td>...</td>\n",
              "      <td>...</td>\n",
              "      <td>...</td>\n",
              "      <td>...</td>\n",
              "      <td>...</td>\n",
              "      <td>...</td>\n",
              "      <td>...</td>\n",
              "      <td>...</td>\n",
              "      <td>...</td>\n",
              "      <td>...</td>\n",
              "    </tr>\n",
              "    <tr>\n",
              "      <th>17283</th>\n",
              "      <td>80200267</td>\n",
              "      <td>Movie</td>\n",
              "      <td>The Ballad of Buster Scruggs</td>\n",
              "      <td>Joel Coen, Ethan Coen</td>\n",
              "      <td>Tom Waits</td>\n",
              "      <td>United States</td>\n",
              "      <td>November 16, 2018</td>\n",
              "      <td>2018</td>\n",
              "      <td>R</td>\n",
              "      <td>133 min</td>\n",
              "      <td>Dramas</td>\n",
              "      <td>Ranging from absurd to profound, these Western...</td>\n",
              "    </tr>\n",
              "    <tr>\n",
              "      <th>17284</th>\n",
              "      <td>80200267</td>\n",
              "      <td>Movie</td>\n",
              "      <td>The Ballad of Buster Scruggs</td>\n",
              "      <td>Joel Coen, Ethan Coen</td>\n",
              "      <td>Zoe Kazan</td>\n",
              "      <td>United States</td>\n",
              "      <td>November 16, 2018</td>\n",
              "      <td>2018</td>\n",
              "      <td>R</td>\n",
              "      <td>133 min</td>\n",
              "      <td>Comedies</td>\n",
              "      <td>Ranging from absurd to profound, these Western...</td>\n",
              "    </tr>\n",
              "    <tr>\n",
              "      <th>17285</th>\n",
              "      <td>80200267</td>\n",
              "      <td>Movie</td>\n",
              "      <td>The Ballad of Buster Scruggs</td>\n",
              "      <td>Joel Coen, Ethan Coen</td>\n",
              "      <td>Zoe Kazan</td>\n",
              "      <td>United States</td>\n",
              "      <td>November 16, 2018</td>\n",
              "      <td>2018</td>\n",
              "      <td>R</td>\n",
              "      <td>133 min</td>\n",
              "      <td>Dramas</td>\n",
              "      <td>Ranging from absurd to profound, these Western...</td>\n",
              "    </tr>\n",
              "    <tr>\n",
              "      <th>17286</th>\n",
              "      <td>80200267</td>\n",
              "      <td>Movie</td>\n",
              "      <td>The Ballad of Buster Scruggs</td>\n",
              "      <td>Joel Coen, Ethan Coen</td>\n",
              "      <td>Brendan Gleeson</td>\n",
              "      <td>United States</td>\n",
              "      <td>November 16, 2018</td>\n",
              "      <td>2018</td>\n",
              "      <td>R</td>\n",
              "      <td>133 min</td>\n",
              "      <td>Comedies</td>\n",
              "      <td>Ranging from absurd to profound, these Western...</td>\n",
              "    </tr>\n",
              "    <tr>\n",
              "      <th>17287</th>\n",
              "      <td>80200267</td>\n",
              "      <td>Movie</td>\n",
              "      <td>The Ballad of Buster Scruggs</td>\n",
              "      <td>Joel Coen, Ethan Coen</td>\n",
              "      <td>Brendan Gleeson</td>\n",
              "      <td>United States</td>\n",
              "      <td>November 16, 2018</td>\n",
              "      <td>2018</td>\n",
              "      <td>R</td>\n",
              "      <td>133 min</td>\n",
              "      <td>Dramas</td>\n",
              "      <td>Ranging from absurd to profound, these Western...</td>\n",
              "    </tr>\n",
              "  </tbody>\n",
              "</table>\n",
              "<p>17288 rows × 12 columns</p>\n",
              "</div>"
            ],
            "text/plain": [
              "        show_id  ...                                        description\n",
              "0      70259801  ...  A disgraced Secret Service agent must come to ...\n",
              "1      70259801  ...  A disgraced Secret Service agent must come to ...\n",
              "2      70259801  ...  A disgraced Secret Service agent must come to ...\n",
              "3      70259801  ...  A disgraced Secret Service agent must come to ...\n",
              "4      70259801  ...  A disgraced Secret Service agent must come to ...\n",
              "...         ...  ...                                                ...\n",
              "17283  80200267  ...  Ranging from absurd to profound, these Western...\n",
              "17284  80200267  ...  Ranging from absurd to profound, these Western...\n",
              "17285  80200267  ...  Ranging from absurd to profound, these Western...\n",
              "17286  80200267  ...  Ranging from absurd to profound, these Western...\n",
              "17287  80200267  ...  Ranging from absurd to profound, these Western...\n",
              "\n",
              "[17288 rows x 12 columns]"
            ]
          },
          "metadata": {
            "tags": []
          },
          "execution_count": 48
        }
      ]
    },
    {
      "cell_type": "markdown",
      "metadata": {
        "id": "s1klAfzPo2cI",
        "colab_type": "text"
      },
      "source": [
        "#Function generating G for model\n",
        "source = title\n",
        "\n",
        "target = could be 2 to 7 features"
      ]
    },
    {
      "cell_type": "code",
      "metadata": {
        "id": "HFd9ONUrol93",
        "colab_type": "code",
        "colab": {}
      },
      "source": [
        "def G_generator(features):\n",
        "  df1 = pd.DataFrame(columns = ['title', 'value']) \n",
        "  for feature in features:\n",
        "    print(feature)\n",
        "    df_temp = df_sep[['title', feature]].copy()\n",
        "    df_temp.columns = ['title', 'value']\n",
        "    df1 = pd.concat([df1, df_temp], axis=0)\n",
        "  return df1\n",
        "#  G = nx.from_pandas_edgelist(df1, source='title', target='value')\n",
        "\n",
        "#abfangen von leeren Zellen?"
      ],
      "execution_count": null,
      "outputs": []
    },
    {
      "cell_type": "code",
      "metadata": {
        "id": "tT3QJdPDStaK",
        "colab_type": "code",
        "colab": {
          "base_uri": "https://localhost:8080/",
          "height": 70
        },
        "outputId": "0da94524-c340-4f84-8f7c-8510352299dc"
      },
      "source": [
        "print('possible cols w/o title:', df_sep.columns)"
      ],
      "execution_count": null,
      "outputs": [
        {
          "output_type": "stream",
          "text": [
            "possible cols w/o title: Index(['show_id', 'type', 'title', 'director', 'cast', 'country', 'date_added',\n",
            "       'release_year', 'rating', 'duration', 'listed_in', 'description'],\n",
            "      dtype='object')\n"
          ],
          "name": "stdout"
        }
      ]
    },
    {
      "cell_type": "code",
      "metadata": {
        "id": "B1bR5sL8SXLZ",
        "colab_type": "code",
        "colab": {}
      },
      "source": [
        "#PLEASE INSERT YOUR COLS\n",
        "features = ['rating', 'cast', 'release_year', 'duration']\n",
        "features = ['rating', 'cast']"
      ],
      "execution_count": null,
      "outputs": []
    },
    {
      "cell_type": "code",
      "metadata": {
        "id": "iMslTjdc0Iy0",
        "colab_type": "code",
        "colab": {
          "base_uri": "https://localhost:8080/",
          "height": 52
        },
        "outputId": "59a9ddbf-1077-4efd-9b0e-b0fc156d1513"
      },
      "source": [
        "df_model = G_generator(features)"
      ],
      "execution_count": null,
      "outputs": [
        {
          "output_type": "stream",
          "text": [
            "rating\n",
            "cast\n"
          ],
          "name": "stdout"
        }
      ]
    },
    {
      "cell_type": "code",
      "metadata": {
        "id": "PJdyApRJ0OFE",
        "colab_type": "code",
        "colab": {
          "base_uri": "https://localhost:8080/",
          "height": 406
        },
        "outputId": "b58fbf8d-4f18-4792-c3da-230f986e9118"
      },
      "source": [
        "\n"
      ],
      "execution_count": null,
      "outputs": [
        {
          "output_type": "execute_result",
          "data": {
            "text/html": [
              "<div>\n",
              "<style scoped>\n",
              "    .dataframe tbody tr th:only-of-type {\n",
              "        vertical-align: middle;\n",
              "    }\n",
              "\n",
              "    .dataframe tbody tr th {\n",
              "        vertical-align: top;\n",
              "    }\n",
              "\n",
              "    .dataframe thead th {\n",
              "        text-align: right;\n",
              "    }\n",
              "</style>\n",
              "<table border=\"1\" class=\"dataframe\">\n",
              "  <thead>\n",
              "    <tr style=\"text-align: right;\">\n",
              "      <th></th>\n",
              "      <th>title</th>\n",
              "      <th>value</th>\n",
              "    </tr>\n",
              "  </thead>\n",
              "  <tbody>\n",
              "    <tr>\n",
              "      <th>0</th>\n",
              "      <td>Olympus Has Fallen</td>\n",
              "      <td>R</td>\n",
              "    </tr>\n",
              "    <tr>\n",
              "      <th>1</th>\n",
              "      <td>Olympus Has Fallen</td>\n",
              "      <td>R</td>\n",
              "    </tr>\n",
              "    <tr>\n",
              "      <th>2</th>\n",
              "      <td>Olympus Has Fallen</td>\n",
              "      <td>R</td>\n",
              "    </tr>\n",
              "    <tr>\n",
              "      <th>3</th>\n",
              "      <td>Olympus Has Fallen</td>\n",
              "      <td>R</td>\n",
              "    </tr>\n",
              "    <tr>\n",
              "      <th>4</th>\n",
              "      <td>Olympus Has Fallen</td>\n",
              "      <td>R</td>\n",
              "    </tr>\n",
              "    <tr>\n",
              "      <th>...</th>\n",
              "      <td>...</td>\n",
              "      <td>...</td>\n",
              "    </tr>\n",
              "    <tr>\n",
              "      <th>17283</th>\n",
              "      <td>The Ballad of Buster Scruggs</td>\n",
              "      <td>Tom Waits</td>\n",
              "    </tr>\n",
              "    <tr>\n",
              "      <th>17284</th>\n",
              "      <td>The Ballad of Buster Scruggs</td>\n",
              "      <td>Zoe Kazan</td>\n",
              "    </tr>\n",
              "    <tr>\n",
              "      <th>17285</th>\n",
              "      <td>The Ballad of Buster Scruggs</td>\n",
              "      <td>Zoe Kazan</td>\n",
              "    </tr>\n",
              "    <tr>\n",
              "      <th>17286</th>\n",
              "      <td>The Ballad of Buster Scruggs</td>\n",
              "      <td>Brendan Gleeson</td>\n",
              "    </tr>\n",
              "    <tr>\n",
              "      <th>17287</th>\n",
              "      <td>The Ballad of Buster Scruggs</td>\n",
              "      <td>Brendan Gleeson</td>\n",
              "    </tr>\n",
              "  </tbody>\n",
              "</table>\n",
              "<p>34576 rows × 2 columns</p>\n",
              "</div>"
            ],
            "text/plain": [
              "                              title             value\n",
              "0                Olympus Has Fallen                 R\n",
              "1                Olympus Has Fallen                 R\n",
              "2                Olympus Has Fallen                 R\n",
              "3                Olympus Has Fallen                 R\n",
              "4                Olympus Has Fallen                 R\n",
              "...                             ...               ...\n",
              "17283  The Ballad of Buster Scruggs         Tom Waits\n",
              "17284  The Ballad of Buster Scruggs         Zoe Kazan\n",
              "17285  The Ballad of Buster Scruggs         Zoe Kazan\n",
              "17286  The Ballad of Buster Scruggs   Brendan Gleeson\n",
              "17287  The Ballad of Buster Scruggs   Brendan Gleeson\n",
              "\n",
              "[34576 rows x 2 columns]"
            ]
          },
          "metadata": {
            "tags": []
          },
          "execution_count": 55
        }
      ]
    },
    {
      "cell_type": "code",
      "metadata": {
        "id": "eZTPyW4Yydrm",
        "colab_type": "code",
        "colab": {
          "base_uri": "https://localhost:8080/",
          "height": 442
        },
        "outputId": "3b9aea8a-89bd-4e9c-8044-9c939fbb0a32"
      },
      "source": [
        "G_generator(['director', 'cast'])"
      ],
      "execution_count": null,
      "outputs": [
        {
          "output_type": "stream",
          "text": [
            "director\n",
            "cast\n"
          ],
          "name": "stdout"
        },
        {
          "output_type": "execute_result",
          "data": {
            "text/html": [
              "<div>\n",
              "<style scoped>\n",
              "    .dataframe tbody tr th:only-of-type {\n",
              "        vertical-align: middle;\n",
              "    }\n",
              "\n",
              "    .dataframe tbody tr th {\n",
              "        vertical-align: top;\n",
              "    }\n",
              "\n",
              "    .dataframe thead th {\n",
              "        text-align: right;\n",
              "    }\n",
              "</style>\n",
              "<table border=\"1\" class=\"dataframe\">\n",
              "  <thead>\n",
              "    <tr style=\"text-align: right;\">\n",
              "      <th></th>\n",
              "      <th>title</th>\n",
              "      <th>value</th>\n",
              "    </tr>\n",
              "  </thead>\n",
              "  <tbody>\n",
              "    <tr>\n",
              "      <th>0</th>\n",
              "      <td>Olympus Has Fallen</td>\n",
              "      <td>Antoine Fuqua</td>\n",
              "    </tr>\n",
              "    <tr>\n",
              "      <th>1</th>\n",
              "      <td>Olympus Has Fallen</td>\n",
              "      <td>Antoine Fuqua</td>\n",
              "    </tr>\n",
              "    <tr>\n",
              "      <th>2</th>\n",
              "      <td>Olympus Has Fallen</td>\n",
              "      <td>Antoine Fuqua</td>\n",
              "    </tr>\n",
              "    <tr>\n",
              "      <th>3</th>\n",
              "      <td>Olympus Has Fallen</td>\n",
              "      <td>Antoine Fuqua</td>\n",
              "    </tr>\n",
              "    <tr>\n",
              "      <th>4</th>\n",
              "      <td>Olympus Has Fallen</td>\n",
              "      <td>Antoine Fuqua</td>\n",
              "    </tr>\n",
              "    <tr>\n",
              "      <th>...</th>\n",
              "      <td>...</td>\n",
              "      <td>...</td>\n",
              "    </tr>\n",
              "    <tr>\n",
              "      <th>17283</th>\n",
              "      <td>The Ballad of Buster Scruggs</td>\n",
              "      <td>Tom Waits</td>\n",
              "    </tr>\n",
              "    <tr>\n",
              "      <th>17284</th>\n",
              "      <td>The Ballad of Buster Scruggs</td>\n",
              "      <td>Zoe Kazan</td>\n",
              "    </tr>\n",
              "    <tr>\n",
              "      <th>17285</th>\n",
              "      <td>The Ballad of Buster Scruggs</td>\n",
              "      <td>Zoe Kazan</td>\n",
              "    </tr>\n",
              "    <tr>\n",
              "      <th>17286</th>\n",
              "      <td>The Ballad of Buster Scruggs</td>\n",
              "      <td>Brendan Gleeson</td>\n",
              "    </tr>\n",
              "    <tr>\n",
              "      <th>17287</th>\n",
              "      <td>The Ballad of Buster Scruggs</td>\n",
              "      <td>Brendan Gleeson</td>\n",
              "    </tr>\n",
              "  </tbody>\n",
              "</table>\n",
              "<p>34576 rows × 2 columns</p>\n",
              "</div>"
            ],
            "text/plain": [
              "                              title             value\n",
              "0                Olympus Has Fallen     Antoine Fuqua\n",
              "1                Olympus Has Fallen     Antoine Fuqua\n",
              "2                Olympus Has Fallen     Antoine Fuqua\n",
              "3                Olympus Has Fallen     Antoine Fuqua\n",
              "4                Olympus Has Fallen     Antoine Fuqua\n",
              "...                             ...               ...\n",
              "17283  The Ballad of Buster Scruggs         Tom Waits\n",
              "17284  The Ballad of Buster Scruggs         Zoe Kazan\n",
              "17285  The Ballad of Buster Scruggs         Zoe Kazan\n",
              "17286  The Ballad of Buster Scruggs   Brendan Gleeson\n",
              "17287  The Ballad of Buster Scruggs   Brendan Gleeson\n",
              "\n",
              "[34576 rows x 2 columns]"
            ]
          },
          "metadata": {
            "tags": []
          },
          "execution_count": 56
        }
      ]
    },
    {
      "cell_type": "markdown",
      "metadata": {
        "id": "OvbSTzFIcTRv",
        "colab_type": "text"
      },
      "source": [
        "#DF Preparation (not needed anymore)\n",
        "Available Nodes:\n",
        "'directors', 'actors' , 'countries', 'release_year', 'rating', 'duration', 'categories'"
      ]
    },
    {
      "cell_type": "code",
      "metadata": {
        "id": "rlwOVt48Xr6f",
        "colab_type": "code",
        "colab": {
          "base_uri": "https://localhost:8080/",
          "height": 431
        },
        "outputId": "c83e7679-8043-498c-e133-a65d06b5dd9f"
      },
      "source": [
        "# convert columns \"director, listed_in, cast and country\" in columns that contain a real list\n",
        "# the strip function is applied on the elements\n",
        "# if the value is NaN, the new column contains a empty list []\n",
        "df['directors'] = df['director'].apply(lambda l: [] if pd.isna(l) else [i.strip() for i in l.split(\",\")])\n",
        "df['categories'] = df['listed_in'].apply(lambda l: [] if pd.isna(l) else [i.strip() for i in l.split(\",\")])\n",
        "df['actors'] = df['cast'].apply(lambda l: [] if pd.isna(l) else [i.strip() for i in l.split(\",\")])\n",
        "df['countries'] = df['country'].apply(lambda l: [] if pd.isna(l) else [i.strip() for i in l.split(\",\")])\n",
        "\n",
        "df.head()"
      ],
      "execution_count": null,
      "outputs": [
        {
          "output_type": "execute_result",
          "data": {
            "text/html": [
              "<div>\n",
              "<style scoped>\n",
              "    .dataframe tbody tr th:only-of-type {\n",
              "        vertical-align: middle;\n",
              "    }\n",
              "\n",
              "    .dataframe tbody tr th {\n",
              "        vertical-align: top;\n",
              "    }\n",
              "\n",
              "    .dataframe thead th {\n",
              "        text-align: right;\n",
              "    }\n",
              "</style>\n",
              "<table border=\"1\" class=\"dataframe\">\n",
              "  <thead>\n",
              "    <tr style=\"text-align: right;\">\n",
              "      <th></th>\n",
              "      <th>show_id</th>\n",
              "      <th>type</th>\n",
              "      <th>title</th>\n",
              "      <th>director</th>\n",
              "      <th>cast</th>\n",
              "      <th>country</th>\n",
              "      <th>date_added</th>\n",
              "      <th>release_year</th>\n",
              "      <th>rating</th>\n",
              "      <th>duration</th>\n",
              "      <th>listed_in</th>\n",
              "      <th>description</th>\n",
              "      <th>directors</th>\n",
              "      <th>categories</th>\n",
              "      <th>actors</th>\n",
              "      <th>countries</th>\n",
              "    </tr>\n",
              "  </thead>\n",
              "  <tbody>\n",
              "    <tr>\n",
              "      <th>4889</th>\n",
              "      <td>80134952</td>\n",
              "      <td>Movie</td>\n",
              "      <td>Bad Rap</td>\n",
              "      <td>Salima Koroma</td>\n",
              "      <td>Jonathan Park, Awkwafina, David Lee, Richard Lee</td>\n",
              "      <td>United States, Canada</td>\n",
              "      <td>August 21, 2017</td>\n",
              "      <td>2016</td>\n",
              "      <td>TV-MA</td>\n",
              "      <td>83 min</td>\n",
              "      <td>Documentaries, Music &amp; Musicals</td>\n",
              "      <td>Four young Asian-American rappers strive to ac...</td>\n",
              "      <td>[Salima Koroma]</td>\n",
              "      <td>[Documentaries, Music &amp; Musicals]</td>\n",
              "      <td>[Jonathan Park, Awkwafina, David Lee, Richard ...</td>\n",
              "      <td>[United States, Canada]</td>\n",
              "    </tr>\n",
              "    <tr>\n",
              "      <th>1820</th>\n",
              "      <td>81069255</td>\n",
              "      <td>Movie</td>\n",
              "      <td>John &amp; Yoko: Above Us Only Sky</td>\n",
              "      <td>Michael Epstein</td>\n",
              "      <td>John Lennon, Yoko Ono</td>\n",
              "      <td>United Kingdom</td>\n",
              "      <td>May 1, 2019</td>\n",
              "      <td>2018</td>\n",
              "      <td>TV-14</td>\n",
              "      <td>90 min</td>\n",
              "      <td>Documentaries, Music &amp; Musicals</td>\n",
              "      <td>Featuring interviews and never-before-seen foo...</td>\n",
              "      <td>[Michael Epstein]</td>\n",
              "      <td>[Documentaries, Music &amp; Musicals]</td>\n",
              "      <td>[John Lennon, Yoko Ono]</td>\n",
              "      <td>[United Kingdom]</td>\n",
              "    </tr>\n",
              "    <tr>\n",
              "      <th>1351</th>\n",
              "      <td>80216003</td>\n",
              "      <td>Movie</td>\n",
              "      <td>Apache Warrior</td>\n",
              "      <td>David Salzberg, Christian Tureaud</td>\n",
              "      <td>NaN</td>\n",
              "      <td>United States</td>\n",
              "      <td>November 1, 2019</td>\n",
              "      <td>2017</td>\n",
              "      <td>TV-MA</td>\n",
              "      <td>89 min</td>\n",
              "      <td>Documentaries</td>\n",
              "      <td>Recovered cockpit footage and telling intervie...</td>\n",
              "      <td>[David Salzberg, Christian Tureaud]</td>\n",
              "      <td>[Documentaries]</td>\n",
              "      <td>[]</td>\n",
              "      <td>[United States]</td>\n",
              "    </tr>\n",
              "    <tr>\n",
              "      <th>519</th>\n",
              "      <td>80235268</td>\n",
              "      <td>Movie</td>\n",
              "      <td>Jefe</td>\n",
              "      <td>Sergio Barrejón</td>\n",
              "      <td>Luis Callejo, Juana Acosta, Carlo D'Ursi, Jose...</td>\n",
              "      <td>Spain, Portugal</td>\n",
              "      <td>October 26, 2018</td>\n",
              "      <td>2018</td>\n",
              "      <td>TV-MA</td>\n",
              "      <td>90 min</td>\n",
              "      <td>Comedies, Dramas, International Movies</td>\n",
              "      <td>A rude, self-centered businessman seems to be ...</td>\n",
              "      <td>[Sergio Barrejón]</td>\n",
              "      <td>[Comedies, Dramas, International Movies]</td>\n",
              "      <td>[Luis Callejo, Juana Acosta, Carlo D'Ursi, Jos...</td>\n",
              "      <td>[Spain, Portugal]</td>\n",
              "    </tr>\n",
              "    <tr>\n",
              "      <th>5219</th>\n",
              "      <td>80185032</td>\n",
              "      <td>Movie</td>\n",
              "      <td>Behind the Curtain: Todrick Hall</td>\n",
              "      <td>Katherine Fairfax Wright</td>\n",
              "      <td>Todrick Hall</td>\n",
              "      <td>United States</td>\n",
              "      <td>April 5, 2018</td>\n",
              "      <td>2017</td>\n",
              "      <td>TV-MA</td>\n",
              "      <td>100 min</td>\n",
              "      <td>Documentaries, LGBTQ Movies, Music &amp; Musicals</td>\n",
              "      <td>Follow singer and YouTube sensation Todrick Ha...</td>\n",
              "      <td>[Katherine Fairfax Wright]</td>\n",
              "      <td>[Documentaries, LGBTQ Movies, Music &amp; Musicals]</td>\n",
              "      <td>[Todrick Hall]</td>\n",
              "      <td>[United States]</td>\n",
              "    </tr>\n",
              "  </tbody>\n",
              "</table>\n",
              "</div>"
            ],
            "text/plain": [
              "       show_id  ...                countries\n",
              "4889  80134952  ...  [United States, Canada]\n",
              "1820  81069255  ...         [United Kingdom]\n",
              "1351  80216003  ...          [United States]\n",
              "519   80235268  ...        [Spain, Portugal]\n",
              "5219  80185032  ...          [United States]\n",
              "\n",
              "[5 rows x 16 columns]"
            ]
          },
          "metadata": {
            "tags": []
          },
          "execution_count": 4
        }
      ]
    },
    {
      "cell_type": "code",
      "metadata": {
        "id": "xdboWFvFcYXz",
        "colab_type": "code",
        "colab": {
          "base_uri": "https://localhost:8080/",
          "height": 406
        },
        "outputId": "22524f56-48f6-405f-885a-4a5ccacb6cf6"
      },
      "source": [
        "df1 = pd.DataFrame( np.concatenate( (\n",
        "    df[['title', 'directors']].values, \n",
        "    df[['title', 'actors']].values, \n",
        "    df[['title', 'countries']].values, \n",
        "    df[['title', 'release_year']].values, \n",
        "    df[['title', 'rating']].values, \n",
        "    df[['title', 'duration']].values, \n",
        "    df[['title', 'categories']].values, \n",
        "    ), axis=0 ) )\n",
        "df1.columns = ['title', 'value']\n",
        "df1"
      ],
      "execution_count": null,
      "outputs": [
        {
          "output_type": "execute_result",
          "data": {
            "text/html": [
              "<div>\n",
              "<style scoped>\n",
              "    .dataframe tbody tr th:only-of-type {\n",
              "        vertical-align: middle;\n",
              "    }\n",
              "\n",
              "    .dataframe tbody tr th {\n",
              "        vertical-align: top;\n",
              "    }\n",
              "\n",
              "    .dataframe thead th {\n",
              "        text-align: right;\n",
              "    }\n",
              "</style>\n",
              "<table border=\"1\" class=\"dataframe\">\n",
              "  <thead>\n",
              "    <tr style=\"text-align: right;\">\n",
              "      <th></th>\n",
              "      <th>title</th>\n",
              "      <th>value</th>\n",
              "    </tr>\n",
              "  </thead>\n",
              "  <tbody>\n",
              "    <tr>\n",
              "      <th>0</th>\n",
              "      <td>Bad Rap</td>\n",
              "      <td>[Salima Koroma]</td>\n",
              "    </tr>\n",
              "    <tr>\n",
              "      <th>1</th>\n",
              "      <td>John &amp; Yoko: Above Us Only Sky</td>\n",
              "      <td>[Michael Epstein]</td>\n",
              "    </tr>\n",
              "    <tr>\n",
              "      <th>2</th>\n",
              "      <td>Apache Warrior</td>\n",
              "      <td>[David Salzberg, Christian Tureaud]</td>\n",
              "    </tr>\n",
              "    <tr>\n",
              "      <th>3</th>\n",
              "      <td>Jefe</td>\n",
              "      <td>[Sergio Barrejón]</td>\n",
              "    </tr>\n",
              "    <tr>\n",
              "      <th>4</th>\n",
              "      <td>Behind the Curtain: Todrick Hall</td>\n",
              "      <td>[Katherine Fairfax Wright]</td>\n",
              "    </tr>\n",
              "    <tr>\n",
              "      <th>...</th>\n",
              "      <td>...</td>\n",
              "      <td>...</td>\n",
              "    </tr>\n",
              "    <tr>\n",
              "      <th>8717</th>\n",
              "      <td>Chris Rock: Tamborine</td>\n",
              "      <td>[Stand-Up Comedy]</td>\n",
              "    </tr>\n",
              "    <tr>\n",
              "      <th>8718</th>\n",
              "      <td>Harry Benson: Shoot First</td>\n",
              "      <td>[Documentaries]</td>\n",
              "    </tr>\n",
              "    <tr>\n",
              "      <th>8719</th>\n",
              "      <td>Lolita</td>\n",
              "      <td>[Classic Movies, Dramas, Romantic Movies]</td>\n",
              "    </tr>\n",
              "    <tr>\n",
              "      <th>8720</th>\n",
              "      <td>Thelonious Monk: Straight, No Chaser</td>\n",
              "      <td>[Documentaries, Music &amp; Musicals]</td>\n",
              "    </tr>\n",
              "    <tr>\n",
              "      <th>8721</th>\n",
              "      <td>New Money</td>\n",
              "      <td>[Dramas, International Movies]</td>\n",
              "    </tr>\n",
              "  </tbody>\n",
              "</table>\n",
              "<p>8722 rows × 2 columns</p>\n",
              "</div>"
            ],
            "text/plain": [
              "                                     title                                      value\n",
              "0                                  Bad Rap                            [Salima Koroma]\n",
              "1           John & Yoko: Above Us Only Sky                          [Michael Epstein]\n",
              "2                           Apache Warrior        [David Salzberg, Christian Tureaud]\n",
              "3                                     Jefe                          [Sergio Barrejón]\n",
              "4         Behind the Curtain: Todrick Hall                 [Katherine Fairfax Wright]\n",
              "...                                    ...                                        ...\n",
              "8717                 Chris Rock: Tamborine                          [Stand-Up Comedy]\n",
              "8718             Harry Benson: Shoot First                            [Documentaries]\n",
              "8719                                Lolita  [Classic Movies, Dramas, Romantic Movies]\n",
              "8720  Thelonious Monk: Straight, No Chaser          [Documentaries, Music & Musicals]\n",
              "8721                             New Money             [Dramas, International Movies]\n",
              "\n",
              "[8722 rows x 2 columns]"
            ]
          },
          "metadata": {
            "tags": []
          },
          "execution_count": 5
        }
      ]
    },
    {
      "cell_type": "markdown",
      "metadata": {
        "id": "2aPJ-oAe6BJ4",
        "colab_type": "text"
      },
      "source": [
        "# Ideen"
      ]
    },
    {
      "cell_type": "markdown",
      "metadata": {
        "id": "1ksDiPzk1GqT",
        "colab_type": "text"
      },
      "source": [
        "Ideen:\n",
        "\n",
        "- Es gibt deutlich mehr Filme als Serien, d.h. ggf. prüfen, ob der eingegebene Name ein Film oder eine Serie ist (oder ob er überhaupt auftaucht).\n",
        "- Filmtitel ist **nicht** unique. Das sollten wir klären. Die Duplikate führen beim Grafen zu Connections, welche eigentlich nicht da sein sollten.\n",
        "- ca. 1/3 der Directors fehlen (kriegen wir die woanders her? z.B. IMDB)\n",
        "- Cast müssen wir ändern (ggf. Sparce Matrix bauen, d.h. Spalten sind die Autorennamen und Zeilen sind die Filme)\n",
        "- Country ist eher US-zentriert.\n",
        "- `date_added` rausschmeißen?\n",
        "- `release_year` ist interessant (z.B. 80er Filme etc.). Können wir daraus Kategorien bilden? (oder z.B. Filme +/- 5 Jahre)\n",
        "- `rating` ist relevant\n",
        "- `duration` müssen wir unterscheiden zwischen Serie und Film.\n",
        "- `listed_in` müssen wir auch klären (Sparse Matrix wie bei den Schauspielern)\n",
        "- `Description` - NLP Task?\n"
      ]
    },
    {
      "cell_type": "markdown",
      "metadata": {
        "id": "02qXmBxOMAgh",
        "colab_type": "text"
      },
      "source": [
        "- Allan Marriott - Film 1\n",
        "- Allan Marriott - 2013\n",
        "- Allan Marriott - Comedy\n",
        "...\n",
        "- Comedy - Allan Marriott\n",
        "\n",
        ".drop_duplicates()"
      ]
    },
    {
      "cell_type": "markdown",
      "metadata": {
        "id": "7hgT3ahb6DpY",
        "colab_type": "text"
      },
      "source": [
        "# IMDB"
      ]
    },
    {
      "cell_type": "code",
      "metadata": {
        "id": "yVDlNkZ62rWP",
        "colab_type": "code",
        "colab": {
          "base_uri": "https://localhost:8080/",
          "height": 212
        },
        "outputId": "82b2d506-d32d-416c-ec04-4a1260b01af9"
      },
      "source": [
        "!pip install git+https://github.com/alberanid/imdbpy"
      ],
      "execution_count": null,
      "outputs": [
        {
          "output_type": "stream",
          "text": [
            "Collecting git+https://github.com/alberanid/imdbpy\n",
            "  Cloning https://github.com/alberanid/imdbpy to /tmp/pip-req-build-1t7vdwfy\n",
            "  Running command git clone -q https://github.com/alberanid/imdbpy /tmp/pip-req-build-1t7vdwfy\n",
            "Requirement already satisfied (use --upgrade to upgrade): IMDbPY==2020.9.29 from git+https://github.com/alberanid/imdbpy in /usr/local/lib/python3.6/dist-packages\n",
            "Requirement already satisfied: SQLAlchemy in /usr/local/lib/python3.6/dist-packages (from IMDbPY==2020.9.29) (1.3.19)\n",
            "Requirement already satisfied: lxml in /usr/local/lib/python3.6/dist-packages (from IMDbPY==2020.9.29) (4.2.6)\n",
            "Building wheels for collected packages: IMDbPY\n",
            "  Building wheel for IMDbPY (setup.py) ... \u001b[?25l\u001b[?25hdone\n",
            "  Created wheel for IMDbPY: filename=IMDbPY-2020.9.29-cp36-none-any.whl size=302743 sha256=92fc7842da0932bad2403d8ebe2a2245a67250b982181a201004781d69fb809e\n",
            "  Stored in directory: /tmp/pip-ephem-wheel-cache-cljh3hij/wheels/0f/09/61/190df5e0276765680540f1562f2abca80e725a7e48595e993f\n",
            "Successfully built IMDbPY\n"
          ],
          "name": "stdout"
        }
      ]
    },
    {
      "cell_type": "code",
      "metadata": {
        "id": "8j8FtjVj3pPw",
        "colab_type": "code",
        "colab": {}
      },
      "source": [
        "from imdb import IMDb\n",
        "\n",
        "# 'Norm of the North: King Sized Adventure'\n",
        "# create an instance of the IMDb class\n",
        "ia = IMDb()\n"
      ],
      "execution_count": null,
      "outputs": []
    },
    {
      "cell_type": "code",
      "metadata": {
        "id": "aVQSOSS_FaMc",
        "colab_type": "code",
        "colab": {
          "base_uri": "https://localhost:8080/",
          "height": 573
        },
        "outputId": "eadca91f-1277-48eb-d45c-90b29f9a047c"
      },
      "source": [
        "df[df['director'].isna()]"
      ],
      "execution_count": null,
      "outputs": [
        {
          "output_type": "execute_result",
          "data": {
            "text/html": [
              "<div>\n",
              "<style scoped>\n",
              "    .dataframe tbody tr th:only-of-type {\n",
              "        vertical-align: middle;\n",
              "    }\n",
              "\n",
              "    .dataframe tbody tr th {\n",
              "        vertical-align: top;\n",
              "    }\n",
              "\n",
              "    .dataframe thead th {\n",
              "        text-align: right;\n",
              "    }\n",
              "</style>\n",
              "<table border=\"1\" class=\"dataframe\">\n",
              "  <thead>\n",
              "    <tr style=\"text-align: right;\">\n",
              "      <th></th>\n",
              "      <th>show_id</th>\n",
              "      <th>type</th>\n",
              "      <th>title</th>\n",
              "      <th>director</th>\n",
              "      <th>cast</th>\n",
              "      <th>country</th>\n",
              "      <th>date_added</th>\n",
              "      <th>release_year</th>\n",
              "      <th>rating</th>\n",
              "      <th>duration</th>\n",
              "      <th>listed_in</th>\n",
              "      <th>description</th>\n",
              "    </tr>\n",
              "  </thead>\n",
              "  <tbody>\n",
              "    <tr>\n",
              "      <th>2689</th>\n",
              "      <td>80162114</td>\n",
              "      <td>TV Show</td>\n",
              "      <td>My Little Baby</td>\n",
              "      <td>NaN</td>\n",
              "      <td>Ji-ho Oh, Soo-kyung Lee, Min-jae Kim, Ji-hyun Nam</td>\n",
              "      <td>South Korea</td>\n",
              "      <td>June 10, 2017</td>\n",
              "      <td>2016</td>\n",
              "      <td>TV-14</td>\n",
              "      <td>1 Season</td>\n",
              "      <td>Crime TV Shows, International TV Shows, Korean...</td>\n",
              "      <td>A top detective in the violent crimes unit bec...</td>\n",
              "    </tr>\n",
              "    <tr>\n",
              "      <th>4871</th>\n",
              "      <td>80243728</td>\n",
              "      <td>TV Show</td>\n",
              "      <td>Deadwind</td>\n",
              "      <td>NaN</td>\n",
              "      <td>Pihla Viitala, Lauri Tilkanen, Jani Volanen, T...</td>\n",
              "      <td>Finland, Germany</td>\n",
              "      <td>August 23, 2018</td>\n",
              "      <td>2018</td>\n",
              "      <td>TV-MA</td>\n",
              "      <td>1 Season</td>\n",
              "      <td>Crime TV Shows, International TV Shows, TV Dramas</td>\n",
              "      <td>Just months after a tragic loss, detective Sof...</td>\n",
              "    </tr>\n",
              "    <tr>\n",
              "      <th>4992</th>\n",
              "      <td>80195357</td>\n",
              "      <td>TV Show</td>\n",
              "      <td>Cannon Busters</td>\n",
              "      <td>NaN</td>\n",
              "      <td>Yoshitsugu Matsuoka, Hinaki Yano, Shiori Izawa...</td>\n",
              "      <td>United States, Japan</td>\n",
              "      <td>August 15, 2019</td>\n",
              "      <td>2019</td>\n",
              "      <td>TV-MA</td>\n",
              "      <td>1 Season</td>\n",
              "      <td>Anime Series, International TV Shows</td>\n",
              "      <td>Immortal renegade Philly the Kid and his trans...</td>\n",
              "    </tr>\n",
              "    <tr>\n",
              "      <th>1429</th>\n",
              "      <td>81035120</td>\n",
              "      <td>Movie</td>\n",
              "      <td>True: Grabbleapple Harvest</td>\n",
              "      <td>NaN</td>\n",
              "      <td>Michela Luci, Jamie Watson, Eric Peterson, Ann...</td>\n",
              "      <td>NaN</td>\n",
              "      <td>November 1, 2019</td>\n",
              "      <td>2019</td>\n",
              "      <td>TV-Y</td>\n",
              "      <td>24 min</td>\n",
              "      <td>Movies</td>\n",
              "      <td>It's Grabbleapple harvest season in the Rainbo...</td>\n",
              "    </tr>\n",
              "    <tr>\n",
              "      <th>5146</th>\n",
              "      <td>80185622</td>\n",
              "      <td>TV Show</td>\n",
              "      <td>Nurses Who Kill</td>\n",
              "      <td>NaN</td>\n",
              "      <td>NaN</td>\n",
              "      <td>United Kingdom</td>\n",
              "      <td>August 1, 2017</td>\n",
              "      <td>2016</td>\n",
              "      <td>TV-14</td>\n",
              "      <td>1 Season</td>\n",
              "      <td>British TV Shows, Crime TV Shows, Docuseries</td>\n",
              "      <td>Top medical, criminal and psychological expert...</td>\n",
              "    </tr>\n",
              "    <tr>\n",
              "      <th>...</th>\n",
              "      <td>...</td>\n",
              "      <td>...</td>\n",
              "      <td>...</td>\n",
              "      <td>...</td>\n",
              "      <td>...</td>\n",
              "      <td>...</td>\n",
              "      <td>...</td>\n",
              "      <td>...</td>\n",
              "      <td>...</td>\n",
              "      <td>...</td>\n",
              "      <td>...</td>\n",
              "      <td>...</td>\n",
              "    </tr>\n",
              "    <tr>\n",
              "      <th>2823</th>\n",
              "      <td>80210294</td>\n",
              "      <td>TV Show</td>\n",
              "      <td>Twelve Forever</td>\n",
              "      <td>NaN</td>\n",
              "      <td>Kelsy Abbott, Antony Del Rio, Jaylen Barron, M...</td>\n",
              "      <td>United States</td>\n",
              "      <td>July 29, 2019</td>\n",
              "      <td>2019</td>\n",
              "      <td>TV-Y7</td>\n",
              "      <td>1 Season</td>\n",
              "      <td>Kids' TV</td>\n",
              "      <td>Reggie's wild imagination unlocks a weird and ...</td>\n",
              "    </tr>\n",
              "    <tr>\n",
              "      <th>5955</th>\n",
              "      <td>80091742</td>\n",
              "      <td>TV Show</td>\n",
              "      <td>Last Chance U</td>\n",
              "      <td>NaN</td>\n",
              "      <td>John Franklin III, DJ Law, Buddy Stephens, Bri...</td>\n",
              "      <td>United States</td>\n",
              "      <td>July 19, 2019</td>\n",
              "      <td>2019</td>\n",
              "      <td>TV-MA</td>\n",
              "      <td>4 Seasons</td>\n",
              "      <td>Docuseries</td>\n",
              "      <td>In a docuseries set at one of NCAA football's ...</td>\n",
              "    </tr>\n",
              "    <tr>\n",
              "      <th>3089</th>\n",
              "      <td>81099976</td>\n",
              "      <td>TV Show</td>\n",
              "      <td>Titipo Titipo</td>\n",
              "      <td>NaN</td>\n",
              "      <td>Jeon Hae-ri, Kim Eun-ah, Hong Bum-ki, Nam Do-h...</td>\n",
              "      <td>NaN</td>\n",
              "      <td>July 1, 2019</td>\n",
              "      <td>2018</td>\n",
              "      <td>TV-Y</td>\n",
              "      <td>1 Season</td>\n",
              "      <td>Kids' TV, Korean TV Shows</td>\n",
              "      <td>Titipo the train is out to prove that he's got...</td>\n",
              "    </tr>\n",
              "    <tr>\n",
              "      <th>4135</th>\n",
              "      <td>81146370</td>\n",
              "      <td>Movie</td>\n",
              "      <td>Spirit Riding Free: Spirit of Christmas</td>\n",
              "      <td>NaN</td>\n",
              "      <td>Amber Frank, Bailey Gambertoglio, Sydney Park,...</td>\n",
              "      <td>United States</td>\n",
              "      <td>December 6, 2019</td>\n",
              "      <td>2019</td>\n",
              "      <td>TV-Y7</td>\n",
              "      <td>46 min</td>\n",
              "      <td>Children &amp; Family Movies</td>\n",
              "      <td>Lucky and friends must figure out how to get h...</td>\n",
              "    </tr>\n",
              "    <tr>\n",
              "      <th>405</th>\n",
              "      <td>70303288</td>\n",
              "      <td>TV Show</td>\n",
              "      <td>Easy Fortune Happy Life</td>\n",
              "      <td>NaN</td>\n",
              "      <td>Lan Cheng-lung, Joe Chen, Roy Chiu, Jocelyn Wa...</td>\n",
              "      <td>Taiwan</td>\n",
              "      <td>September 1, 2016</td>\n",
              "      <td>2009</td>\n",
              "      <td>TV-14</td>\n",
              "      <td>1 Season</td>\n",
              "      <td>International TV Shows, Romantic TV Shows, TV ...</td>\n",
              "      <td>Years after a wealthy man is healed by a rural...</td>\n",
              "    </tr>\n",
              "  </tbody>\n",
              "</table>\n",
              "<p>405 rows × 12 columns</p>\n",
              "</div>"
            ],
            "text/plain": [
              "       show_id  ...                                        description\n",
              "2689  80162114  ...  A top detective in the violent crimes unit bec...\n",
              "4871  80243728  ...  Just months after a tragic loss, detective Sof...\n",
              "4992  80195357  ...  Immortal renegade Philly the Kid and his trans...\n",
              "1429  81035120  ...  It's Grabbleapple harvest season in the Rainbo...\n",
              "5146  80185622  ...  Top medical, criminal and psychological expert...\n",
              "...        ...  ...                                                ...\n",
              "2823  80210294  ...  Reggie's wild imagination unlocks a weird and ...\n",
              "5955  80091742  ...  In a docuseries set at one of NCAA football's ...\n",
              "3089  81099976  ...  Titipo the train is out to prove that he's got...\n",
              "4135  81146370  ...  Lucky and friends must figure out how to get h...\n",
              "405   70303288  ...  Years after a wealthy man is healed by a rural...\n",
              "\n",
              "[405 rows x 12 columns]"
            ]
          },
          "metadata": {
            "tags": []
          },
          "execution_count": 32
        }
      ]
    },
    {
      "cell_type": "code",
      "metadata": {
        "id": "fBFjeqqK3tMO",
        "colab_type": "code",
        "colab": {
          "base_uri": "https://localhost:8080/",
          "height": 372
        },
        "outputId": "fa3a6a65-bfbd-44c6-a7f7-0d8147387e5c"
      },
      "source": [
        "ia.search_movie('My Little Baby\t')"
      ],
      "execution_count": null,
      "outputs": [
        {
          "output_type": "execute_result",
          "data": {
            "text/plain": [
              "[<Movie id:5546516[http] title:_\"My Little Baby\" (2016)_>,\n",
              " <Movie id:6236592[http] title:_My Little Baby (2019)_>,\n",
              " <Movie id:1579638[http] title:_My Little Baby (1916)_>,\n",
              " <Movie id:6892950[http] title:_My Little Baby, Jaya (2017)_>,\n",
              " <Movie id:6677776[http] title:_\"My Little Baby\" Episode #1.5 (2016)_>,\n",
              " <Movie id:6677778[http] title:_\"My Little Baby\" Episode #1.6 (2016)_>,\n",
              " <Movie id:6677792[http] title:_\"My Little Baby\" Episode #1.13 (2016)_>,\n",
              " <Movie id:6677774[http] title:_\"My Little Baby\" Episode #1.4 (2016)_>,\n",
              " <Movie id:8569206[http] title:_Little Baby (2019)_>,\n",
              " <Movie id:7001042[http] title:_Hush Little Baby (2017) (TV)_>,\n",
              " <Movie id:10051854[http] title:_\"Little Baby Bum\" (2011)_>,\n",
              " <Movie id:0395140[http] title:_My Little Bride (2004)_>,\n",
              " <Movie id:1031294[http] title:_Hush Little Baby (2007) (TV)_>,\n",
              " <Movie id:2559620[http] title:_Little Baby Jesus (2013)_>,\n",
              " <Movie id:0868745[http] title:_\"Teletubbies\" Little Baby (1997)_>,\n",
              " <Movie id:10741912[http] title:_\"Two Dimes\" Little Baby (2018)_>,\n",
              " <Movie id:1118600[http] title:_My Little Boy (2007)_>,\n",
              " <Movie id:0107169[http] title:_Hush Little Baby (1994) (TV)_>,\n",
              " <Movie id:0008344[http] title:_My Little Boy (1917)_>,\n",
              " <Movie id:6105526[http] title:_My Little Bear (2016)_>]"
            ]
          },
          "metadata": {
            "tags": []
          },
          "execution_count": 33
        }
      ]
    },
    {
      "cell_type": "code",
      "metadata": {
        "id": "goyU4dKh3xO_",
        "colab_type": "code",
        "colab": {
          "base_uri": "https://localhost:8080/",
          "height": 34
        },
        "outputId": "0c54b64f-d935-4ee8-af2c-3b096a2a3627"
      },
      "source": [
        "# get a movie\n",
        "movie = ia.get_movie(5546516)\n",
        "\n",
        "# print the names of the directors of the movie\n",
        "movie"
      ],
      "execution_count": null,
      "outputs": [
        {
          "output_type": "execute_result",
          "data": {
            "text/plain": [
              "<Movie id:5546516[http] title:_\"My Little Baby\" (2016)_>"
            ]
          },
          "metadata": {
            "tags": []
          },
          "execution_count": 34
        }
      ]
    },
    {
      "cell_type": "code",
      "metadata": {
        "id": "Xd0JYM3aD_kz",
        "colab_type": "code",
        "colab": {
          "base_uri": "https://localhost:8080/",
          "height": 532
        },
        "outputId": "d64885b2-2967-45cf-b375-82b694214e77"
      },
      "source": [
        "movie.keys()"
      ],
      "execution_count": null,
      "outputs": [
        {
          "output_type": "execute_result",
          "data": {
            "text/plain": [
              "['original title',\n",
              " 'cast',\n",
              " 'genres',\n",
              " 'countries',\n",
              " 'country codes',\n",
              " 'language codes',\n",
              " 'color info',\n",
              " 'certificates',\n",
              " 'number of seasons',\n",
              " 'rating',\n",
              " 'votes',\n",
              " 'cover url',\n",
              " 'imdbID',\n",
              " 'languages',\n",
              " 'title',\n",
              " 'year',\n",
              " 'kind',\n",
              " 'series years',\n",
              " 'akas',\n",
              " 'seasons',\n",
              " 'writer',\n",
              " 'distributors',\n",
              " 'plot',\n",
              " 'canonical title',\n",
              " 'long imdb title',\n",
              " 'long imdb canonical title',\n",
              " 'smart canonical title',\n",
              " 'smart long imdb canonical title',\n",
              " 'full-size cover url']"
            ]
          },
          "metadata": {
            "tags": []
          },
          "execution_count": 36
        }
      ]
    },
    {
      "cell_type": "code",
      "metadata": {
        "id": "KiGov4f0GRw4",
        "colab_type": "code",
        "colab": {
          "base_uri": "https://localhost:8080/",
          "height": 923
        },
        "outputId": "bdb22372-d4e0-43cb-8181-55daa766968f"
      },
      "source": [
        "movie['countries'], movie['cast']"
      ],
      "execution_count": null,
      "outputs": [
        {
          "output_type": "execute_result",
          "data": {
            "text/plain": [
              "(['Japan'],\n",
              " [<Person id:5137121[http] name:_Natsuki Hanae_>,\n",
              "  <Person id:5190250[http] name:_Risa Taneda_>,\n",
              "  <Person id:4785118[http] name:_Ayane Sakura_>,\n",
              "  <Person id:4986657[http] name:_Ryôta Ôsaka_>,\n",
              "  <Person id:2971661[http] name:_Jennifer Alyx_>,\n",
              "  <Person id:4285676[http] name:_Megan Crockett_>,\n",
              "  <Person id:4808080[http] name:_Erika Harlacher_>,\n",
              "  <Person id:4582537[http] name:_Erik Scott Kimerer_>,\n",
              "  <Person id:2186567[http] name:_Christina N. McBride_>,\n",
              "  <Person id:4481399[http] name:_Amanda Céline Miller_>,\n",
              "  <Person id:7763801[http] name:_Ryan Raydarke_>,\n",
              "  <Person id:8897900[http] name:_Abelina Sabrina Rios_>,\n",
              "  <Person id:5982390[http] name:_Adin Rudd_>,\n",
              "  <Person id:0397364[http] name:_Julie Ann Taylor_>,\n",
              "  <Person id:6949652[http] name:_Erica Lindbeck_>,\n",
              "  <Person id:2550198[http] name:_Kyle McCarley_>,\n",
              "  <Person id:6745380[http] name:_Landon McDonald_>,\n",
              "  <Person id:5213224[http] name:_Erica Mendez_>,\n",
              "  <Person id:5489754[http] name:_Max Mittelman_>,\n",
              "  <Person id:6506265[http] name:_Shizuka Ishigami_>,\n",
              "  <Person id:2569233[http] name:_Yûki Kaji_>,\n",
              "  <Person id:1840747[http] name:_Mie Sonozaki_>,\n",
              "  <Person id:2977461[http] name:_Saori Hayami_>,\n",
              "  <Person id:1145982[http] name:_Mamiko Noto_>,\n",
              "  <Person id:5667822[http] name:_Inori Minase_>,\n",
              "  <Person id:7236273[http] name:_Rina Dendô_>,\n",
              "  <Person id:0848968[http] name:_Atsuko Tanaka_>,\n",
              "  <Person id:0510418[http] name:_Rachael Lillis_>,\n",
              "  <Person id:1365137[http] name:_Patrick Seitz_>,\n",
              "  <Person id:4438173[http] name:_Ai Kayano_>,\n",
              "  <Person id:2066228[http] name:_Takanori Ohyama_>,\n",
              "  <Person id:0999118[http] name:_Michael Sinterniklaas_>,\n",
              "  <Person id:1315809[http] name:_Stephanie Sheh_>,\n",
              "  <Person id:5256487[http] name:_Hiromichi Tezuka_>,\n",
              "  <Person id:0386998[http] name:_Ben Hiura_>,\n",
              "  <Person id:1566165[http] name:_Ikuji Nose_>,\n",
              "  <Person id:3280822[http] name:_Marie Miyake_>,\n",
              "  <Person id:6376080[http] name:_Ari Ozawa_>,\n",
              "  <Person id:3081715[http] name:_Kanehira Yamamoto_>,\n",
              "  <Person id:6183411[http] name:_Genki Muro_>,\n",
              "  <Person id:2875143[http] name:_Harumi Sakurai_>,\n",
              "  <Person id:1289414[http] name:_Tôru Ohkawa_>,\n",
              "  <Person id:0793884[http] name:_Naomi Shindô_>,\n",
              "  <Person id:2944424[http] name:_Kazuyuki Okitsu_>,\n",
              "  <Person id:0864980[http] name:_Nobuo Tobita_>,\n",
              "  <Person id:2919200[http] name:_Shinobu Matsumoto_>,\n",
              "  <Person id:2719774[http] name:_Yuka Terasaki_>,\n",
              "  <Person id:8311633[http] name:_Ryôko Maekawa_>,\n",
              "  <Person id:7634904[http] name:_Naoko Komatsu_>,\n",
              "  <Person id:1846910[http] name:_Mika Kanda_>])"
            ]
          },
          "metadata": {
            "tags": []
          },
          "execution_count": 30
        }
      ]
    },
    {
      "cell_type": "code",
      "metadata": {
        "id": "sfkgkgP3DxON",
        "colab_type": "code",
        "colab": {
          "base_uri": "https://localhost:8080/",
          "height": 293
        },
        "outputId": "a6eeac1a-2f83-4f9b-ea38-f63e5accbc42"
      },
      "source": [
        "movie['director']"
      ],
      "execution_count": null,
      "outputs": [
        {
          "output_type": "error",
          "ename": "KeyError",
          "evalue": "ignored",
          "traceback": [
            "\u001b[0;31m---------------------------------------------------------------------------\u001b[0m",
            "\u001b[0;31mKeyError\u001b[0m                                  Traceback (most recent call last)",
            "\u001b[0;32m<ipython-input-31-5094c7762d5b>\u001b[0m in \u001b[0;36m<module>\u001b[0;34m()\u001b[0m\n\u001b[0;32m----> 1\u001b[0;31m \u001b[0mmovie\u001b[0m\u001b[0;34m[\u001b[0m\u001b[0;34m'director'\u001b[0m\u001b[0;34m]\u001b[0m\u001b[0;34m\u001b[0m\u001b[0;34m\u001b[0m\u001b[0m\n\u001b[0m",
            "\u001b[0;32m/usr/local/lib/python3.6/dist-packages/imdb/utils.py\u001b[0m in \u001b[0;36m__getitem__\u001b[0;34m(self, key)\u001b[0m\n\u001b[1;32m   1501\u001b[0m         \u001b[0;31m# Handle key aliases.\u001b[0m\u001b[0;34m\u001b[0m\u001b[0;34m\u001b[0m\u001b[0;34m\u001b[0m\u001b[0m\n\u001b[1;32m   1502\u001b[0m         \u001b[0mkey\u001b[0m \u001b[0;34m=\u001b[0m \u001b[0mself\u001b[0m\u001b[0;34m.\u001b[0m\u001b[0mkeys_alias\u001b[0m\u001b[0;34m.\u001b[0m\u001b[0mget\u001b[0m\u001b[0;34m(\u001b[0m\u001b[0mkey\u001b[0m\u001b[0;34m,\u001b[0m \u001b[0mkey\u001b[0m\u001b[0;34m)\u001b[0m\u001b[0;34m\u001b[0m\u001b[0;34m\u001b[0m\u001b[0m\n\u001b[0;32m-> 1503\u001b[0;31m         \u001b[0mrawData\u001b[0m \u001b[0;34m=\u001b[0m \u001b[0mself\u001b[0m\u001b[0;34m.\u001b[0m\u001b[0mdata\u001b[0m\u001b[0;34m[\u001b[0m\u001b[0mkey\u001b[0m\u001b[0;34m]\u001b[0m\u001b[0;34m\u001b[0m\u001b[0;34m\u001b[0m\u001b[0m\n\u001b[0m\u001b[1;32m   1504\u001b[0m         \u001b[0;32mif\u001b[0m \u001b[0mkey\u001b[0m \u001b[0;32min\u001b[0m \u001b[0mself\u001b[0m\u001b[0;34m.\u001b[0m\u001b[0mkeys_tomodify\u001b[0m \u001b[0;32mand\u001b[0m\u001b[0;31m \u001b[0m\u001b[0;31m\\\u001b[0m\u001b[0;34m\u001b[0m\u001b[0;34m\u001b[0m\u001b[0m\n\u001b[1;32m   1505\u001b[0m                 \u001b[0mself\u001b[0m\u001b[0;34m.\u001b[0m\u001b[0mmodFunct\u001b[0m \u001b[0;32mnot\u001b[0m \u001b[0;32min\u001b[0m \u001b[0;34m(\u001b[0m\u001b[0;32mNone\u001b[0m\u001b[0;34m,\u001b[0m \u001b[0mmodNull\u001b[0m\u001b[0;34m)\u001b[0m\u001b[0;34m:\u001b[0m\u001b[0;34m\u001b[0m\u001b[0;34m\u001b[0m\u001b[0m\n",
            "\u001b[0;31mKeyError\u001b[0m: 'director'"
          ]
        }
      ]
    },
    {
      "cell_type": "code",
      "metadata": {
        "id": "ghcSafKiE7CB",
        "colab_type": "code",
        "colab": {
          "base_uri": "https://localhost:8080/",
          "height": 317
        },
        "outputId": "c1948ba3-b189-47bb-94e0-159badc5ec84"
      },
      "source": [
        "df.loc[4613, :]"
      ],
      "execution_count": null,
      "outputs": [
        {
          "output_type": "error",
          "ename": "IndexError",
          "evalue": "ignored",
          "traceback": [
            "\u001b[0;31m---------------------------------------------------------------------------\u001b[0m",
            "\u001b[0;31mIndexError\u001b[0m                                Traceback (most recent call last)",
            "\u001b[0;32m<ipython-input-97-cdd4e2db1371>\u001b[0m in \u001b[0;36m<module>\u001b[0;34m()\u001b[0m\n\u001b[0;32m----> 1\u001b[0;31m \u001b[0mdf\u001b[0m\u001b[0;34m.\u001b[0m\u001b[0miloc\u001b[0m\u001b[0;34m[\u001b[0m\u001b[0;36m4613\u001b[0m\u001b[0;34m,\u001b[0m \u001b[0;34m:\u001b[0m\u001b[0;34m]\u001b[0m\u001b[0;34m\u001b[0m\u001b[0;34m\u001b[0m\u001b[0m\n\u001b[0m",
            "\u001b[0;32m/usr/local/lib/python3.6/dist-packages/pandas/core/indexing.py\u001b[0m in \u001b[0;36m__getitem__\u001b[0;34m(self, key)\u001b[0m\n\u001b[1;32m   1760\u001b[0m                 \u001b[0;32mexcept\u001b[0m \u001b[0;34m(\u001b[0m\u001b[0mKeyError\u001b[0m\u001b[0;34m,\u001b[0m \u001b[0mIndexError\u001b[0m\u001b[0;34m,\u001b[0m \u001b[0mAttributeError\u001b[0m\u001b[0;34m)\u001b[0m\u001b[0;34m:\u001b[0m\u001b[0;34m\u001b[0m\u001b[0;34m\u001b[0m\u001b[0m\n\u001b[1;32m   1761\u001b[0m                     \u001b[0;32mpass\u001b[0m\u001b[0;34m\u001b[0m\u001b[0;34m\u001b[0m\u001b[0m\n\u001b[0;32m-> 1762\u001b[0;31m             \u001b[0;32mreturn\u001b[0m \u001b[0mself\u001b[0m\u001b[0;34m.\u001b[0m\u001b[0m_getitem_tuple\u001b[0m\u001b[0;34m(\u001b[0m\u001b[0mkey\u001b[0m\u001b[0;34m)\u001b[0m\u001b[0;34m\u001b[0m\u001b[0;34m\u001b[0m\u001b[0m\n\u001b[0m\u001b[1;32m   1763\u001b[0m         \u001b[0;32melse\u001b[0m\u001b[0;34m:\u001b[0m\u001b[0;34m\u001b[0m\u001b[0;34m\u001b[0m\u001b[0m\n\u001b[1;32m   1764\u001b[0m             \u001b[0;31m# we by definition only have the 0th axis\u001b[0m\u001b[0;34m\u001b[0m\u001b[0;34m\u001b[0m\u001b[0;34m\u001b[0m\u001b[0m\n",
            "\u001b[0;32m/usr/local/lib/python3.6/dist-packages/pandas/core/indexing.py\u001b[0m in \u001b[0;36m_getitem_tuple\u001b[0;34m(self, tup)\u001b[0m\n\u001b[1;32m   2065\u001b[0m     \u001b[0;32mdef\u001b[0m \u001b[0m_getitem_tuple\u001b[0m\u001b[0;34m(\u001b[0m\u001b[0mself\u001b[0m\u001b[0;34m,\u001b[0m \u001b[0mtup\u001b[0m\u001b[0;34m:\u001b[0m \u001b[0mTuple\u001b[0m\u001b[0;34m)\u001b[0m\u001b[0;34m:\u001b[0m\u001b[0;34m\u001b[0m\u001b[0;34m\u001b[0m\u001b[0m\n\u001b[1;32m   2066\u001b[0m \u001b[0;34m\u001b[0m\u001b[0m\n\u001b[0;32m-> 2067\u001b[0;31m         \u001b[0mself\u001b[0m\u001b[0;34m.\u001b[0m\u001b[0m_has_valid_tuple\u001b[0m\u001b[0;34m(\u001b[0m\u001b[0mtup\u001b[0m\u001b[0;34m)\u001b[0m\u001b[0;34m\u001b[0m\u001b[0;34m\u001b[0m\u001b[0m\n\u001b[0m\u001b[1;32m   2068\u001b[0m         \u001b[0;32mtry\u001b[0m\u001b[0;34m:\u001b[0m\u001b[0;34m\u001b[0m\u001b[0;34m\u001b[0m\u001b[0m\n\u001b[1;32m   2069\u001b[0m             \u001b[0;32mreturn\u001b[0m \u001b[0mself\u001b[0m\u001b[0;34m.\u001b[0m\u001b[0m_getitem_lowerdim\u001b[0m\u001b[0;34m(\u001b[0m\u001b[0mtup\u001b[0m\u001b[0;34m)\u001b[0m\u001b[0;34m\u001b[0m\u001b[0;34m\u001b[0m\u001b[0m\n",
            "\u001b[0;32m/usr/local/lib/python3.6/dist-packages/pandas/core/indexing.py\u001b[0m in \u001b[0;36m_has_valid_tuple\u001b[0;34m(self, key)\u001b[0m\n\u001b[1;32m    701\u001b[0m                 \u001b[0;32mraise\u001b[0m \u001b[0mIndexingError\u001b[0m\u001b[0;34m(\u001b[0m\u001b[0;34m\"Too many indexers\"\u001b[0m\u001b[0;34m)\u001b[0m\u001b[0;34m\u001b[0m\u001b[0;34m\u001b[0m\u001b[0m\n\u001b[1;32m    702\u001b[0m             \u001b[0;32mtry\u001b[0m\u001b[0;34m:\u001b[0m\u001b[0;34m\u001b[0m\u001b[0;34m\u001b[0m\u001b[0m\n\u001b[0;32m--> 703\u001b[0;31m                 \u001b[0mself\u001b[0m\u001b[0;34m.\u001b[0m\u001b[0m_validate_key\u001b[0m\u001b[0;34m(\u001b[0m\u001b[0mk\u001b[0m\u001b[0;34m,\u001b[0m \u001b[0mi\u001b[0m\u001b[0;34m)\u001b[0m\u001b[0;34m\u001b[0m\u001b[0;34m\u001b[0m\u001b[0m\n\u001b[0m\u001b[1;32m    704\u001b[0m             \u001b[0;32mexcept\u001b[0m \u001b[0mValueError\u001b[0m\u001b[0;34m:\u001b[0m\u001b[0;34m\u001b[0m\u001b[0;34m\u001b[0m\u001b[0m\n\u001b[1;32m    705\u001b[0m                 raise ValueError(\n",
            "\u001b[0;32m/usr/local/lib/python3.6/dist-packages/pandas/core/indexing.py\u001b[0m in \u001b[0;36m_validate_key\u001b[0;34m(self, key, axis)\u001b[0m\n\u001b[1;32m   1992\u001b[0m             \u001b[0;32mreturn\u001b[0m\u001b[0;34m\u001b[0m\u001b[0;34m\u001b[0m\u001b[0m\n\u001b[1;32m   1993\u001b[0m         \u001b[0;32melif\u001b[0m \u001b[0mis_integer\u001b[0m\u001b[0;34m(\u001b[0m\u001b[0mkey\u001b[0m\u001b[0;34m)\u001b[0m\u001b[0;34m:\u001b[0m\u001b[0;34m\u001b[0m\u001b[0;34m\u001b[0m\u001b[0m\n\u001b[0;32m-> 1994\u001b[0;31m             \u001b[0mself\u001b[0m\u001b[0;34m.\u001b[0m\u001b[0m_validate_integer\u001b[0m\u001b[0;34m(\u001b[0m\u001b[0mkey\u001b[0m\u001b[0;34m,\u001b[0m \u001b[0maxis\u001b[0m\u001b[0;34m)\u001b[0m\u001b[0;34m\u001b[0m\u001b[0;34m\u001b[0m\u001b[0m\n\u001b[0m\u001b[1;32m   1995\u001b[0m         \u001b[0;32melif\u001b[0m \u001b[0misinstance\u001b[0m\u001b[0;34m(\u001b[0m\u001b[0mkey\u001b[0m\u001b[0;34m,\u001b[0m \u001b[0mtuple\u001b[0m\u001b[0;34m)\u001b[0m\u001b[0;34m:\u001b[0m\u001b[0;34m\u001b[0m\u001b[0;34m\u001b[0m\u001b[0m\n\u001b[1;32m   1996\u001b[0m             \u001b[0;31m# a tuple should already have been caught by this point\u001b[0m\u001b[0;34m\u001b[0m\u001b[0;34m\u001b[0m\u001b[0;34m\u001b[0m\u001b[0m\n",
            "\u001b[0;32m/usr/local/lib/python3.6/dist-packages/pandas/core/indexing.py\u001b[0m in \u001b[0;36m_validate_integer\u001b[0;34m(self, key, axis)\u001b[0m\n\u001b[1;32m   2061\u001b[0m         \u001b[0mlen_axis\u001b[0m \u001b[0;34m=\u001b[0m \u001b[0mlen\u001b[0m\u001b[0;34m(\u001b[0m\u001b[0mself\u001b[0m\u001b[0;34m.\u001b[0m\u001b[0mobj\u001b[0m\u001b[0;34m.\u001b[0m\u001b[0m_get_axis\u001b[0m\u001b[0;34m(\u001b[0m\u001b[0maxis\u001b[0m\u001b[0;34m)\u001b[0m\u001b[0;34m)\u001b[0m\u001b[0;34m\u001b[0m\u001b[0;34m\u001b[0m\u001b[0m\n\u001b[1;32m   2062\u001b[0m         \u001b[0;32mif\u001b[0m \u001b[0mkey\u001b[0m \u001b[0;34m>=\u001b[0m \u001b[0mlen_axis\u001b[0m \u001b[0;32mor\u001b[0m \u001b[0mkey\u001b[0m \u001b[0;34m<\u001b[0m \u001b[0;34m-\u001b[0m\u001b[0mlen_axis\u001b[0m\u001b[0;34m:\u001b[0m\u001b[0;34m\u001b[0m\u001b[0;34m\u001b[0m\u001b[0m\n\u001b[0;32m-> 2063\u001b[0;31m             \u001b[0;32mraise\u001b[0m \u001b[0mIndexError\u001b[0m\u001b[0;34m(\u001b[0m\u001b[0;34m\"single positional indexer is out-of-bounds\"\u001b[0m\u001b[0;34m)\u001b[0m\u001b[0;34m\u001b[0m\u001b[0;34m\u001b[0m\u001b[0m\n\u001b[0m\u001b[1;32m   2064\u001b[0m \u001b[0;34m\u001b[0m\u001b[0m\n\u001b[1;32m   2065\u001b[0m     \u001b[0;32mdef\u001b[0m \u001b[0m_getitem_tuple\u001b[0m\u001b[0;34m(\u001b[0m\u001b[0mself\u001b[0m\u001b[0;34m,\u001b[0m \u001b[0mtup\u001b[0m\u001b[0;34m:\u001b[0m \u001b[0mTuple\u001b[0m\u001b[0;34m)\u001b[0m\u001b[0;34m:\u001b[0m\u001b[0;34m\u001b[0m\u001b[0;34m\u001b[0m\u001b[0m\n",
            "\u001b[0;31mIndexError\u001b[0m: single positional indexer is out-of-bounds"
          ]
        }
      ]
    },
    {
      "cell_type": "code",
      "metadata": {
        "id": "rt79Yv-44sn6",
        "colab_type": "code",
        "colab": {}
      },
      "source": [
        "# create an instance of the IMDb class\n",
        "ia = IMDb()\n",
        "movies = ia.search_movie('Jandino: Whatever it Takes')\n",
        "movies"
      ],
      "execution_count": null,
      "outputs": []
    },
    {
      "cell_type": "code",
      "metadata": {
        "id": "tiwcWc3d5lHC",
        "colab_type": "code",
        "colab": {}
      },
      "source": [
        "# get a movie\n",
        "movie = ia.get_movie(6999080)\n",
        "\n",
        "# print the names of the directors of the movie\n",
        "movie.values()"
      ],
      "execution_count": null,
      "outputs": []
    },
    {
      "cell_type": "code",
      "metadata": {
        "id": "Im69qkh85qkA",
        "colab_type": "code",
        "colab": {}
      },
      "source": [
        ""
      ],
      "execution_count": null,
      "outputs": []
    },
    {
      "cell_type": "markdown",
      "metadata": {
        "id": "R8XyTnKf6dpI",
        "colab_type": "text"
      },
      "source": [
        "# Graphs"
      ]
    },
    {
      "cell_type": "markdown",
      "metadata": {
        "id": "PMQZdnCbBEb4",
        "colab_type": "text"
      },
      "source": [
        "## Networkx"
      ]
    },
    {
      "cell_type": "code",
      "metadata": {
        "id": "lwYXz4Mp6e2m",
        "colab_type": "code",
        "colab": {}
      },
      "source": [
        "import networkx as nx"
      ],
      "execution_count": null,
      "outputs": []
    },
    {
      "cell_type": "code",
      "metadata": {
        "id": "8ZR87prX6gX5",
        "colab_type": "code",
        "colab": {}
      },
      "source": [
        ""
      ],
      "execution_count": null,
      "outputs": []
    },
    {
      "cell_type": "code",
      "metadata": {
        "id": "6lAAja9NGr1W",
        "colab_type": "code",
        "colab": {}
      },
      "source": [
        "df['temp_genre']"
      ],
      "execution_count": null,
      "outputs": []
    },
    {
      "cell_type": "code",
      "metadata": {
        "id": "5EKWKKDa7A7W",
        "colab_type": "code",
        "colab": {}
      },
      "source": [
        "df.columns"
      ],
      "execution_count": null,
      "outputs": []
    },
    {
      "cell_type": "code",
      "metadata": {
        "id": "kqu-4BfH6hDy",
        "colab_type": "code",
        "colab": {}
      },
      "source": [
        "df[['temp_genre', 'title']]"
      ],
      "execution_count": null,
      "outputs": []
    },
    {
      "cell_type": "code",
      "metadata": {
        "id": "CTuMGqAH6_cX",
        "colab_type": "code",
        "colab": {}
      },
      "source": [
        "G = nx.from_pandas_edgelist(df, source='temp_genre', target='title')"
      ],
      "execution_count": null,
      "outputs": []
    },
    {
      "cell_type": "code",
      "metadata": {
        "id": "8_rS8vKb7Z6O",
        "colab_type": "code",
        "colab": {}
      },
      "source": [
        ""
      ],
      "execution_count": null,
      "outputs": []
    },
    {
      "cell_type": "code",
      "metadata": {
        "id": "6HlMYhVM8CH6",
        "colab_type": "code",
        "colab": {}
      },
      "source": [
        "import matplotlib.pyplot as plt\n",
        "\n",
        "plt.figure(figsize=(25, 25))\n",
        "nx.draw_networkx(G, nodelist=sample_nodes, with_labels=False)"
      ],
      "execution_count": null,
      "outputs": []
    },
    {
      "cell_type": "code",
      "metadata": {
        "id": "joZpVans8HXf",
        "colab_type": "code",
        "colab": {}
      },
      "source": [
        "print(nx.info(G))"
      ],
      "execution_count": null,
      "outputs": []
    },
    {
      "cell_type": "code",
      "metadata": {
        "id": "hI4oCXw2Hx92",
        "colab_type": "code",
        "colab": {}
      },
      "source": [
        "G.edges()"
      ],
      "execution_count": null,
      "outputs": []
    },
    {
      "cell_type": "markdown",
      "metadata": {
        "id": "C2AHsAG2Hmwt",
        "colab_type": "text"
      },
      "source": [
        "Graphen (Basic):\n",
        "- Nodes: Filmtitel + Genres"
      ]
    },
    {
      "cell_type": "code",
      "metadata": {
        "id": "7H6pT0AW-KHN",
        "colab_type": "code",
        "colab": {}
      },
      "source": [
        "sorted(nx.connected_components(G))[6]"
      ],
      "execution_count": null,
      "outputs": []
    },
    {
      "cell_type": "code",
      "metadata": {
        "id": "7cTg_Kl9_ydZ",
        "colab_type": "code",
        "colab": {}
      },
      "source": [
        "titles = df.loc[df[['temp_genre', 'title']].duplicated(), 'title'].values"
      ],
      "execution_count": null,
      "outputs": []
    },
    {
      "cell_type": "code",
      "metadata": {
        "id": "IBKQIeAV-xiC",
        "colab_type": "code",
        "colab": {}
      },
      "source": [
        "df.loc[df['title'].apply(lambda title: title in titles)]"
      ],
      "execution_count": null,
      "outputs": []
    },
    {
      "cell_type": "markdown",
      "metadata": {
        "id": "_gu3OmFY-8e9",
        "colab_type": "text"
      },
      "source": [
        "## Graph tool"
      ]
    },
    {
      "cell_type": "code",
      "metadata": {
        "id": "2f30H90jCbcr",
        "colab_type": "code",
        "colab": {}
      },
      "source": [
        "!echo \"deb http://downloads.skewed.de/apt bionic main\" >> /etc/apt/sources.list\n",
        "!apt-key adv --keyserver keys.openpgp.org --recv-key 612DEFB798507F25\n",
        "!apt-get update\n",
        "!apt-get install python3-graph-tool"
      ],
      "execution_count": null,
      "outputs": []
    },
    {
      "cell_type": "code",
      "metadata": {
        "id": "bXAUb31qCxUC",
        "colab_type": "code",
        "colab": {}
      },
      "source": [
        ""
      ],
      "execution_count": null,
      "outputs": []
    },
    {
      "cell_type": "code",
      "metadata": {
        "id": "S0-sZ-6xBJzr",
        "colab_type": "code",
        "colab": {}
      },
      "source": [
        "import graph_tool.all as gt\n",
        "\n",
        "# Load table\n",
        "g = gt.Graph()\n",
        "# Set property maps for edge attributes\n",
        "# weight = g.new_edge_property('int')\n",
        "# color = g.new_edge_property('string')\n",
        "\n",
        "# Create numpy array of edgelist\n",
        "edgelist = df[['temp_genre', 'title']].values\n",
        "\n",
        "# Add edges\n",
        "node_id = g.add_edge_list(edgelist)\n",
        "\n",
        "# Access node id of each vertex\n",
        "for node in range(g.num_vertices()):\n",
        "    print(\"Node {} has id: {}\".format(node, node_id[node]))"
      ],
      "execution_count": null,
      "outputs": []
    },
    {
      "cell_type": "code",
      "metadata": {
        "id": "pt3McEfYBsc-",
        "colab_type": "code",
        "colab": {}
      },
      "source": [
        "df[['temp_genre', 'title']].values"
      ],
      "execution_count": null,
      "outputs": []
    },
    {
      "cell_type": "markdown",
      "metadata": {
        "id": "RkCIZ8_NCy-w",
        "colab_type": "text"
      },
      "source": [
        "# Nächste Schritte"
      ]
    },
    {
      "cell_type": "code",
      "metadata": {
        "id": "BRDH_P_RSWX5",
        "colab_type": "code",
        "colab": {}
      },
      "source": [
        "### BONUS\n",
        "\n",
        "# GIT\n",
        "# fastapi\n",
        "# mlflow\n",
        "# netwulf\n",
        "# nlp\n",
        "# imdb"
      ],
      "execution_count": null,
      "outputs": []
    },
    {
      "cell_type": "code",
      "metadata": {
        "id": "LLmoJGwPUR7e",
        "colab_type": "code",
        "colab": {}
      },
      "source": [
        "df.head(1)"
      ],
      "execution_count": null,
      "outputs": []
    },
    {
      "cell_type": "markdown",
      "metadata": {
        "id": "laZS66AdVG-g",
        "colab_type": "text"
      },
      "source": [
        "Norm of the King - Richard Finn\n",
        "\n",
        "Norm of the King - Tim Maltby\n",
        "\n",
        "...\n",
        "\n"
      ]
    },
    {
      "cell_type": "code",
      "metadata": {
        "id": "RlOo8H4VT-8Q",
        "colab_type": "code",
        "colab": {}
      },
      "source": [
        "def data_clean(features_list[features]):\n",
        "  ...\n",
        "\n",
        "  return df # alle Spaltenkombinationen in 'source'/'target', und alle anderen Spalten sind gelöscht"
      ],
      "execution_count": null,
      "outputs": []
    },
    {
      "cell_type": "markdown",
      "metadata": {
        "id": "ScU2xodESWpF",
        "colab_type": "text"
      },
      "source": [
        "0. Wie komme ich von der aktuellen Datenstruktur zu einem Graphen\n",
        "1. Funktion bauen, welche einen Titel akzeptiert und ähnliche Titel zurückgibt.\n",
        "\n",
        "\n",
        "\n",
        "\n",
        "\n",
        "\n",
        "\n",
        "\n",
        "\n",
        "\n",
        "1. Data Cleaning\n",
        "- Fehlende Werte von `director` entfernen\n",
        "- `director`, `cast` & `listed_in` liegen aktuell als Listen vor. Endziel wäre pro Zeile eine Filmtitel + Spaltenwert kombination.\n",
        "- \n",
        "2.\n",
        "3.\n",
        "4.\n",
        "5.\n",
        "6.\n",
        "7.\n"
      ]
    },
    {
      "cell_type": "code",
      "metadata": {
        "id": "XrZT37XmSWzb",
        "colab_type": "code",
        "colab": {}
      },
      "source": [
        ""
      ],
      "execution_count": null,
      "outputs": []
    },
    {
      "cell_type": "code",
      "metadata": {
        "id": "uKBtPfEgSW8Z",
        "colab_type": "code",
        "colab": {}
      },
      "source": [
        ""
      ],
      "execution_count": null,
      "outputs": []
    },
    {
      "cell_type": "code",
      "metadata": {
        "id": "CXXPR0E5SXF4",
        "colab_type": "code",
        "colab": {}
      },
      "source": [
        ""
      ],
      "execution_count": null,
      "outputs": []
    },
    {
      "cell_type": "code",
      "metadata": {
        "id": "zoHqxjojSXOD",
        "colab_type": "code",
        "colab": {}
      },
      "source": [
        ""
      ],
      "execution_count": null,
      "outputs": []
    }
  ]
}